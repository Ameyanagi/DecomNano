{
 "cells": [
  {
   "attachments": {},
   "cell_type": "markdown",
   "metadata": {},
   "source": [
    "# A Notebook to demonstrate plotting of the output\n"
   ]
  },
  {
   "attachments": {},
   "cell_type": "markdown",
   "metadata": {},
   "source": [
    "## Installing the required packages"
   ]
  },
  {
   "cell_type": "code",
   "execution_count": 2,
   "metadata": {},
   "outputs": [
    {
     "name": "stdout",
     "output_type": "stream",
     "text": [
      "Requirement already satisfied: seaborn in /Users/ryuichi/mambaforge/envs/decomnano/lib/python3.11/site-packages (0.12.2)\n",
      "Requirement already satisfied: pptemp in /Users/ryuichi/mambaforge/envs/decomnano/lib/python3.11/site-packages (0.1.0)\n",
      "Requirement already satisfied: scienceplots in /Users/ryuichi/mambaforge/envs/decomnano/lib/python3.11/site-packages (2.0.1)\n",
      "Requirement already satisfied: numpy!=1.24.0,>=1.17 in /Users/ryuichi/mambaforge/envs/decomnano/lib/python3.11/site-packages (from seaborn) (1.24.3)\n",
      "Requirement already satisfied: pandas>=0.25 in /Users/ryuichi/mambaforge/envs/decomnano/lib/python3.11/site-packages (from seaborn) (2.0.1)\n",
      "Requirement already satisfied: matplotlib!=3.6.1,>=3.1 in /Users/ryuichi/mambaforge/envs/decomnano/lib/python3.11/site-packages (from seaborn) (3.7.1)\n",
      "Requirement already satisfied: python-pptx in /Users/ryuichi/mambaforge/envs/decomnano/lib/python3.11/site-packages (from pptemp) (0.6.21)\n",
      "Requirement already satisfied: lxml in /Users/ryuichi/mambaforge/envs/decomnano/lib/python3.11/site-packages (from pptemp) (4.9.2)\n",
      "Requirement already satisfied: Pillow in /Users/ryuichi/mambaforge/envs/decomnano/lib/python3.11/site-packages (from pptemp) (9.5.0)\n",
      "Requirement already satisfied: tqdm in /Users/ryuichi/mambaforge/envs/decomnano/lib/python3.11/site-packages (from pptemp) (4.65.0)\n",
      "Requirement already satisfied: contourpy>=1.0.1 in /Users/ryuichi/mambaforge/envs/decomnano/lib/python3.11/site-packages (from matplotlib!=3.6.1,>=3.1->seaborn) (1.0.7)\n",
      "Requirement already satisfied: cycler>=0.10 in /Users/ryuichi/mambaforge/envs/decomnano/lib/python3.11/site-packages (from matplotlib!=3.6.1,>=3.1->seaborn) (0.11.0)\n",
      "Requirement already satisfied: fonttools>=4.22.0 in /Users/ryuichi/mambaforge/envs/decomnano/lib/python3.11/site-packages (from matplotlib!=3.6.1,>=3.1->seaborn) (4.39.3)\n",
      "Requirement already satisfied: kiwisolver>=1.0.1 in /Users/ryuichi/mambaforge/envs/decomnano/lib/python3.11/site-packages (from matplotlib!=3.6.1,>=3.1->seaborn) (1.4.4)\n",
      "Requirement already satisfied: packaging>=20.0 in /Users/ryuichi/mambaforge/envs/decomnano/lib/python3.11/site-packages (from matplotlib!=3.6.1,>=3.1->seaborn) (23.1)\n",
      "Requirement already satisfied: pyparsing>=2.3.1 in /Users/ryuichi/mambaforge/envs/decomnano/lib/python3.11/site-packages (from matplotlib!=3.6.1,>=3.1->seaborn) (3.0.9)\n",
      "Requirement already satisfied: python-dateutil>=2.7 in /Users/ryuichi/mambaforge/envs/decomnano/lib/python3.11/site-packages (from matplotlib!=3.6.1,>=3.1->seaborn) (2.8.2)\n",
      "Requirement already satisfied: pytz>=2020.1 in /Users/ryuichi/mambaforge/envs/decomnano/lib/python3.11/site-packages (from pandas>=0.25->seaborn) (2023.3)\n",
      "Requirement already satisfied: tzdata>=2022.1 in /Users/ryuichi/mambaforge/envs/decomnano/lib/python3.11/site-packages (from pandas>=0.25->seaborn) (2023.3)\n",
      "Requirement already satisfied: XlsxWriter>=0.5.7 in /Users/ryuichi/mambaforge/envs/decomnano/lib/python3.11/site-packages (from python-pptx->pptemp) (3.1.0)\n",
      "Requirement already satisfied: six>=1.5 in /Users/ryuichi/mambaforge/envs/decomnano/lib/python3.11/site-packages (from python-dateutil>=2.7->matplotlib!=3.6.1,>=3.1->seaborn) (1.16.0)\n"
     ]
    }
   ],
   "source": [
    "!pip install seaborn pptemp scienceplots"
   ]
  },
  {
   "attachments": {},
   "cell_type": "markdown",
   "metadata": {},
   "source": [
    "## Defining the Labels for the plots"
   ]
  },
  {
   "cell_type": "code",
   "execution_count": 3,
   "metadata": {},
   "outputs": [],
   "source": [
    "label_dict = {\n",
    "    \"nAA_A\": r\"$n_{A-A}$\",\n",
    "    \"nPP_P\": r\"$n_{P-P}$\",\n",
    "    \"nMM_AP\": r\"$n_{M-M}$\",\n",
    "    \"XAP\": r\"$X_{AP}$\",\n",
    "    \"XA\": r\"$X_{A}$\",\n",
    "    \"XP\": r\"$X_{P}$\",\n",
    "    \"y\": r\"$y$\",\n",
    "    \"DA\": r\"$D_{A}$\",\n",
    "    \"DAP\": r\"$D_{AP}$\",\n",
    "    \"DP\": r\"$D_{P}$\",\n",
    "    \"nAM_AP\": r\"$n_{A-M,AP}$\",\n",
    "    \"nPM_AP\": r\"$n_{P-M,AP}$\",\n",
    "    \"nAA_AP\": r\"$n_{A-A,AP}$\",\n",
    "    \"nAP_AP\": r\"$n_{A-P,AP}$\",\n",
    "    \"nPA_AP\": r\"$n_{P-A,AP}$\",\n",
    "    \"nPP_AP\": r\"$n_{P-P,AP}$\",\n",
    "    \"dA\": r\"$d_{A}$\",\n",
    "    \"dP\": r\"$d_{P}$\",\n",
    "    \"dAP\": r\"$d_{AP}$\",\n",
    "    \"fA\": r\"$f_{A}$\",\n",
    "    \"nAA\": r\"$n_{A-A}$\",\n",
    "    \"nPP\": r\"$n_{P-P}$\",\n",
    "    \"nAP\": r\"$n_{A-P}$\",\n",
    "    \"nPA\": r\"$n_{P-A}$\",\n",
    "    \"NA\": r\"$N_{A}$\",\n",
    "    \"NP\": r\"$N_{P}$\",\n",
    "    \"NAP\": r\"$N_{AP}$\",\n",
    "}"
   ]
  },
  {
   "attachments": {},
   "cell_type": "markdown",
   "metadata": {},
   "source": [
    "## Defining the functions to plot the data"
   ]
  },
  {
   "cell_type": "code",
   "execution_count": 4,
   "metadata": {},
   "outputs": [],
   "source": [
    "import os\n",
    "import re\n",
    "import glob\n",
    "from datetime import date\n",
    "import pandas as pd\n",
    "import matplotlib.pyplot as plt\n",
    "import matplotlib as mpl\n",
    "import matplotlib.ticker as ticker\n",
    "import numpy as np\n",
    "import seaborn as sns\n",
    "import scienceplots\n",
    "\n",
    "import pptemp\n",
    "\n",
    "plt.style.use(['science','nature'])\n",
    "plt.rcParams.update({'font.size': 15})\n",
    "\n",
    "class Analyze(object):\n",
    "    def __init__(self, path = None):\n",
    "        self.df = pd.DataFrame()\n",
    "        \n",
    "        if path is not None:\n",
    "            self.init_df(path)\n",
    "        \n",
    "    def init_df(self, path):\n",
    "        self.df = pd.read_csv(path)\n",
    "    \n",
    "    def L(self, D, d):\n",
    "        return D/2/d\n",
    "    \n",
    "    def n(self, D, d):\n",
    "        return  6 * self.L(D,d) * (20 * self.L(D,d) ** 2 + 15 * self.L(D,d) + 7) / (10 * self.L(D,d) ** 3 + 15 * self.L(D,d) ** 2 + 11 * self.L(D,d) + 3)\n",
    "    \n",
    "    def Natom(self, D, d):\n",
    "        return (10 * self.L(D,d) ** 3 + 15 * self.L(D,d) ** 2 + 11 * self.L(D,d) + 3) / 3\n",
    "    \n",
    "    def calc_all_parameters(self):\n",
    "        self.df[\"dAP\"] = self.df[\"fA\"] * self.df[\"dA\"] + (1- self.df[\"fA\"]) * self.df[\"dP\"]\n",
    "        \n",
    "        self.df[\"nMM_AP\"] = self.n(self.df[\"DAP\"], self.df[\"dAP\"])\n",
    "        self.df[\"nAA_A\"] = self.n(self.df[\"DA\"], self.df[\"dA\"])\n",
    "        self.df[\"nPP_P\"] = self.n(self.df[\"DP\"], self.df[\"dP\"])\n",
    "        \n",
    "        self.df[\"NA\"] = self.Natom(self.df[\"DA\"], self.df[\"dA\"])\n",
    "        self.df[\"NP\"] = self.Natom(self.df[\"DP\"], self.df[\"dP\"])\n",
    "        self.df[\"NAP\"] = self.Natom(self.df[\"DAP\"], self.df[\"dAP\"])\n",
    "        \n",
    "        self.df[\"XA*NA\"] = self.df[\"XA\"] * self.df[\"NA\"]\n",
    "        self.df[\"XP*NP\"] = self.df[\"XP\"] * self.df[\"NP\"]\n",
    "        self.df[\"XAP*NAP\"] = self.df[\"XAP\"] * self.df[\"NAP\"]\n",
    "        \n",
    "        \n",
    "    def Plot(self):\n",
    "        pass\n",
    "\n",
    "    input_columns = [\"dP\", \"dA\", \"fA\", \"nAA\", \"nPP\", \"nAP\", \"nPA\", \"DA\", \"DAP\", \"DP\"]\n",
    "    calculated_columns = [\"dAP\", \"nMM_AP\", \"nAA_A\", \"nPP_P\", \"NA\", \"NP\", \"NAP\"]\n",
    "    solved_columns = [\"nAM_AP\", \"nPM_AP\", \"nAA_AP\", \"nAP_AP\", \"nPA_AP\", \"nPP_AP\", \"XAP\", \"XA\", \"XP\", \"y\"]\n",
    "    hetero_columns = [\"XA*NA\", \"XP*NP\", \"XAP*NAP\", \"y\", \"nAM_AP\", \"nPM_AP\"]\n",
    "\n",
    "    n_columns = [\"nAA_A\", \"nPP_P\", \"nMM_AP\"]\n",
    "    X_columns = [\"XAP\", \"XA\", \"XP\"]\n",
    "    y_columns = [\"y\"]\n",
    "    D_columns = [\"DA\", \"DAP\", \"DP\"]\n",
    "    N_columns = [\"nAM_AP\", \"nPM_AP\", \"nAA_AP\", \"nAP_AP\", \"nPA_AP\", \"nPP_AP\"]\n",
    "    d_columns = [\"dA\", \"dP\", \"dAP\"]\n",
    "    f_columns = [\"fA\"]\n",
    "    n_sample_columns = [\"nAA\", \"nPP\", \"nAP\", \"nPA\"]\n",
    "    N_calc_columns = [\"NA\", \"NP\", \"NAP\"]\n",
    "    \n",
    "    \n",
    "\n",
    "    def calc_df_range(self, df):\n",
    "        columns = df.columns.sort_values()\n",
    "        input_detail = \"\"\n",
    "        input_format = \"{label}: min:{min: .1f}, max:{max: .1f}\\n\"\n",
    "        for column in columns:\n",
    "            input_detail += input_format.format(label=column, min=self.df[column].min(), max=self.df[column].max())\n",
    "        \n",
    "        return input_detail\n",
    "    \n",
    "    def gen_df_table(self, df):\n",
    "        table = None\n",
    "        # columns = df.columns.sort_values()\n",
    "        columns = df.columns\n",
    "                \n",
    "        for column in columns:\n",
    "            if column in self.X_columns or column in self.y_columns:\n",
    "                digits = 2\n",
    "            else:\n",
    "                digits = 1\n",
    "            table = pd.concat([table,\n",
    "                                pd.DataFrame([[column,\n",
    "                                                df[column].min().round(digits).astype(\"str\"),\n",
    "                                                df[column].max().round(digits).astype(\"str\"),\n",
    "                                                df[column].mean().round(digits).astype(\"str\"),\n",
    "                                                df[column].std().round(digits).astype(\"str\")]],columns = [\"Parameter\", \"Min\", \"Max\", \"Mean\", \"Standard Deviation\"])])\n",
    "                    \n",
    "        return table.reset_index(drop=True)\n",
    "    \n",
    "    def get_df_input(self):\n",
    "        return self.df[self.input_columns]\n",
    "    \n",
    "    def get_df_output(self):\n",
    "        return self.df #self.df.drop(self.input_columns, axis=1)\n",
    "    \n",
    "    def get_df_len(self):\n",
    "        return len(self.df)\n",
    "\n",
    "    def calc_bins(self, bin_range=(0, 1), bins=20):\n",
    "        bin_offset = (bin_range[1] - bin_range[0]) / bins\n",
    "        return np.linspace(bin_range[0] + bin_offset / 2, bin_range[1] - bin_offset / 2, bins)\n",
    "\n",
    "    def plot_histogram(self, column, path):\n",
    "        \n",
    "        \n",
    "        \n",
    "        if column in self.n_columns or column in self.N_columns or column in self.n_sample_columns:\n",
    "            sns.histplot(self.df[column], bins=self.calc_bins((0, 12), 20), stat=\"probability\")\n",
    "            plt.xlabel(\"Coordination Number {}\".format(label_dict[column]))\n",
    "        elif column in self.X_columns:\n",
    "            sns.histplot(self.df[column], bins=self.calc_bins((0, 1), 20), stat=\"probability\")\n",
    "            plt.xlabel(\"Mole Fraction of Particle {} [mol\\%]\".format(label_dict[column]))\n",
    "        elif column in self.y_columns:\n",
    "            sns.histplot(self.df[column], bins=self.calc_bins((0, 1), 20), stat=\"probability\")\n",
    "            plt.xlabel(\"Au Fraction in AuPt BNPs {} [mol\\%]\".format(label_dict[column]))\n",
    "        elif column in self.D_columns:\n",
    "            sns.histplot(self.df[column], bins=self.calc_bins((0, 20), 20), stat=\"probability\")\n",
    "            plt.xlabel(\"Particle Diameter {} [Å]\".format(label_dict[column]))\n",
    "        elif column in self.d_columns:\n",
    "            sns.histplot(self.df[column], bins=self.calc_bins((2, 3), 20), stat=\"probability\")\n",
    "            plt.xlabel(\"Interatomic Distance {} [Å]\".format(label_dict[column]))\n",
    "        elif column in self.f_columns:\n",
    "            sns.histplot(self.df[column], bins=self.calc_bins((0, 1), 20), stat=\"probability\")\n",
    "            plt.xlabel(\"Nominal Au Fraction in Sample {} [mol\\%]\".format(label_dict[column]))\n",
    "        elif column in self.N_calc_columns:\n",
    "            max_N = self.df[column].max()\n",
    "            max_N = (max_N//50)*50 + 50\n",
    "            sns.histplot(self.df[column], bins=self.calc_bins((0, max_N), 50), stat=\"probability\")\n",
    "            plt.xlabel(\"Number of Atoms in Particle {}\".format(label_dict[column]))\n",
    "        else:\n",
    "           sns.histplot(self.df[column])\n",
    "        \n",
    "        plt.ylabel('Frequency [\\%]')\n",
    "        plt.gca().yaxis.set_major_formatter(ticker.FormatStrFormatter('%0.2f'))\n",
    "        \n",
    "        file = os.path.join(path, column + \" \" + self.df_results[column] + \".png\")\n",
    "        os.makedirs(os.path.dirname(file), exist_ok=True)\n",
    "        plt.savefig(file, dpi=300)\n",
    "        plt.clf()\n",
    "    \n",
    "    def analyze_all(self, title):\n",
    "        self.calc_all_parameters()\n",
    "                \n",
    "        self.input_table = self.gen_df_table(self.get_df_input())\n",
    "        self.input_len = self.get_df_len()\n",
    "        \n",
    "        self.df.dropna(inplace=True)\n",
    "        self.df = self.df[self.df[\"y\"] > 0]\n",
    "        \n",
    "        self.input_table_drop = self.gen_df_table(self.get_df_input())\n",
    "        self.input_drop_len = self.get_df_len()\n",
    "        self.output_table = self.gen_df_table(self.get_df_output())\n",
    "        self.calculated_table = self.gen_df_table(self.df[self.calculated_columns])\n",
    "        self.solved_table = self.gen_df_table(self.df[self.solved_columns])\n",
    "        self.hetero_table = self.gen_df_table(self.df[self.hetero_columns])\n",
    "        self.df_results = \"mean: \" + self.df.mean().round(2).astype(\"str\") + \" sd:\" + self.df.std().round(2).astype(\"str\")\n",
    "                \n",
    "        prefix = title\n",
    "        \n",
    "        for data in self.input_columns:\n",
    "            self.plot_histogram(data, prefix + \"/1 Distribution of input data\")\n",
    "        \n",
    "        for data in self.calculated_columns:\n",
    "            self.plot_histogram(data, prefix + \"/2 Distribution of calculated data\")\n",
    "        \n",
    "        for data in self.solved_columns:\n",
    "            self.plot_histogram(data, prefix + \"/3 Distribution of solved data\")\n",
    "        \n",
    "        for data in self.n_columns:\n",
    "            self.plot_histogram(data, prefix + \"/4 Distribution of n (Overall Cordination Number)\")\n",
    "            \n",
    "        for data in self.X_columns:\n",
    "            self.plot_histogram(data, prefix + \"/5 Distribution of X (Fraction of Nanoparticle)\")\n",
    "        \n",
    "        for data in self.y_columns:\n",
    "            self.plot_histogram(data, prefix + \"/6 Distribution of y (Fraction of Au in Nanoparticle)\")\n",
    "        \n",
    "        for data in self.D_columns:\n",
    "            self.plot_histogram(data, prefix + \"/7 Distribution of D (Diameter of Nanoparticle)\")\n",
    "        \n",
    "        for data in self.N_columns:\n",
    "            self.plot_histogram(data, prefix + \"/8 Distribution of n (Coordination Number of Nanoparticle)\")\n",
    "        \n",
    "        self.make_slides(prefix)\n",
    "        \n",
    "    def make_slides(self, title):\n",
    "        # initialization\n",
    "        presentation = pptemp.pptemp()\n",
    "            \n",
    "        # Slide 1 Title\n",
    "        slide = presentation.add_title_slide(title, str(date.today()))\n",
    "        \n",
    "        slide = presentation.add_content_slide(\"Input Parameters for DecomNano\", font_size=24)\n",
    "        presentation.add_textbox(slide, \"Input Parameters (All) \" + str(self.input_len) + \" data\", 2.5, 12, 45, 10)\n",
    "        presentation.add_table_from_df(slide, self.input_table,2.5,22,45,78, font_size=12)\n",
    "        presentation.add_textbox(slide, \"Input Parameters\\n(Droped parameters with no answer) \" + str(self.input_drop_len) + \" data\", 52.5, 12, 45, 10)\n",
    "        presentation.add_table_from_df(slide, self.input_table_drop,52.5,22,45,78, font_size=12)\n",
    "        \n",
    "        slide = presentation.add_content_slide(\"Ouput Parameters\", font_size=24)\n",
    "        presentation.add_table_from_df(slide, self.output_table,25,12,50,88, font_size=12)\n",
    "        \n",
    "        slide = presentation.add_content_slide(\"Solution of DecomNano\", font_size=24)\n",
    "        presentation.add_table_from_df(slide, self.solved_table,25,12,50,88, font_size=12)\n",
    "        \n",
    "        slide = presentation.add_content_slide(\"Other Parameters Calculated in the DecomNano\", font_size=24)\n",
    "        presentation.add_table_from_df(slide, self.calculated_table,25,12,50,88, font_size=12)\n",
    "        \n",
    "        slide = presentation.add_content_slide(\"Extracted Parameter Related to Hetereogeneity\", font_size=24)\n",
    "        presentation.add_table_from_df(slide, self.hetero_table,25,12,50,88, font_size=12)\n",
    "                \n",
    "        \n",
    "        dir_list = glob.glob(title + \"/*/\")\n",
    "        dir_list.sort()\n",
    "        \n",
    "        for dir in dir_list:\n",
    "            if os.path.isdir(dir):\n",
    "                presentation.add_figure_label_slide(dir_path=dir, label_font_size=12, title_font_size=24, file_regex=re.compile(r\".*[/\\\\](.*)\\.[a-zA-Z_]+\"))\n",
    "        \n",
    "        # save\n",
    "        file = \"slides/\"+ title +\".pptx\"\n",
    "        os.makedirs(os.path.dirname(file), exist_ok=True)\n",
    "        presentation.save(file)"
   ]
  },
  {
   "attachments": {},
   "cell_type": "markdown",
   "metadata": {},
   "source": [
    "## Plot and save the data to PowerPoint slides"
   ]
  },
  {
   "cell_type": "code",
   "execution_count": 5,
   "metadata": {},
   "outputs": [
    {
     "name": "stderr",
     "output_type": "stream",
     "text": [
      "100%|██████████| 1/1 [00:00<00:00, 80.32it/s]\n",
      "100%|██████████| 1/1 [00:00<00:00, 116.87it/s]\n",
      "100%|██████████| 1/1 [00:00<00:00, 83.21it/s]\n",
      "100%|██████████| 1/1 [00:00<00:00, 235.69it/s]\n",
      "100%|██████████| 1/1 [00:00<00:00, 228.98it/s]\n",
      "100%|██████████| 1/1 [00:00<00:00, 328.09it/s]\n",
      "100%|██████████| 1/1 [00:00<00:00, 230.79it/s]\n",
      "100%|██████████| 1/1 [00:00<00:00, 92.65it/s]\n"
     ]
    },
    {
     "data": {
      "text/plain": [
       "<Figure size 330x250 with 0 Axes>"
      ]
     },
     "metadata": {},
     "output_type": "display_data"
    }
   ],
   "source": [
    "#Plot the histogram of the input data and save to pptx slides\n",
    "adn = Analyze(\"../sweep/Pt20Au80_AgBP1_results.csv\")\n",
    "adn.analyze_all(\"Pt20Au80_AgBP1\")"
   ]
  },
  {
   "cell_type": "code",
   "execution_count": 6,
   "metadata": {},
   "outputs": [
    {
     "name": "stderr",
     "output_type": "stream",
     "text": [
      "100%|██████████| 1/1 [00:00<00:00, 61.77it/s]\n",
      "100%|██████████| 1/1 [00:00<00:00, 86.91it/s]\n",
      "100%|██████████| 1/1 [00:00<00:00, 71.70it/s]\n",
      "100%|██████████| 1/1 [00:00<00:00, 173.46it/s]\n",
      "100%|██████████| 1/1 [00:00<00:00, 193.31it/s]\n",
      "100%|██████████| 1/1 [00:00<00:00, 309.98it/s]\n",
      "100%|██████████| 1/1 [00:00<00:00, 210.57it/s]\n",
      "100%|██████████| 1/1 [00:00<00:00, 130.70it/s]\n"
     ]
    },
    {
     "data": {
      "text/plain": [
       "<Figure size 330x250 with 0 Axes>"
      ]
     },
     "metadata": {},
     "output_type": "display_data"
    }
   ],
   "source": [
    "#Plot the histogram of the input data and save to pptx slides\n",
    "adn = Analyze(\"../sweep/Pt40Au60_AgBP1_results.csv\")\n",
    "adn.analyze_all(\"Pt40Au60_AgBP1\")"
   ]
  },
  {
   "cell_type": "code",
   "execution_count": null,
   "metadata": {},
   "outputs": [],
   "source": []
  },
  {
   "attachments": {},
   "cell_type": "markdown",
   "metadata": {},
   "source": [
    "# Additional constraints by TEM-EDX analsis\n",
    "\n",
    "In TEM-EDX analsis, we observed clear images that Au is in the core and Pt is in the shell for the Bimetallic nanoparticles.\n",
    "Therefore, we applied constraints that Au-M > Pt-M in the BNPs."
   ]
  },
  {
   "cell_type": "code",
   "execution_count": 7,
   "metadata": {},
   "outputs": [
    {
     "name": "stdout",
     "output_type": "stream",
     "text": [
      "Solution for Pt20Au80_AgBP1_nAM_AP >= nPM_AP found. 67 solutions.\n"
     ]
    },
    {
     "name": "stderr",
     "output_type": "stream",
     "text": [
      "100%|██████████| 1/1 [00:00<00:00, 74.06it/s]\n",
      "100%|██████████| 1/1 [00:00<00:00, 97.72it/s]\n",
      "100%|██████████| 1/1 [00:00<00:00, 78.51it/s]\n",
      "100%|██████████| 1/1 [00:00<00:00, 203.55it/s]\n",
      "100%|██████████| 1/1 [00:00<00:00, 210.26it/s]\n",
      "100%|██████████| 1/1 [00:00<00:00, 297.43it/s]\n",
      "100%|██████████| 1/1 [00:00<00:00, 207.42it/s]\n",
      "100%|██████████| 1/1 [00:00<00:00, 144.57it/s]\n"
     ]
    },
    {
     "data": {
      "text/plain": [
       "<Figure size 330x250 with 0 Axes>"
      ]
     },
     "metadata": {},
     "output_type": "display_data"
    }
   ],
   "source": [
    "# Pt20Au80_AgBP1_nAM_AP >= nPM_AP\n",
    "\n",
    "adn = Analyze(\"../sweep/Pt20Au80_AgBP1_results.csv\")\n",
    "adn.df = adn.df[adn.df[\"nAM_AP\"] >= adn.df[\"nPM_AP\"]]\n",
    "\n",
    "if len(adn.df) > 0:\n",
    "    print(\"Solution for Pt20Au80_AgBP1_nAM_AP >= nPM_AP found. {} solutions.\".format(len(adn.df)))\n",
    "    adn.analyze_all(\"Pt20Au80_AgBP1_nAM_AP >= nPM_AP\")\n",
    "else:\n",
    "    print(\"Solution for Pt20Au80_AgBP1_nAM_AP >= nPM_AP not found.\")"
   ]
  },
  {
   "cell_type": "code",
   "execution_count": 8,
   "metadata": {},
   "outputs": [
    {
     "name": "stdout",
     "output_type": "stream",
     "text": [
      "Solution for Pt40Au60_AgBP1_nAM_AP >= nPM_AP not found.\n"
     ]
    }
   ],
   "source": [
    "# Pt40Au60_AgBP1_nAM_AP >= nPM_AP\n",
    "\n",
    "adn = Analyze(\"../sweep/Pt40Au60_AgBP1_results.csv\")\n",
    "adn.df = adn.df[adn.df[\"nAM_AP\"] >= adn.df[\"nPM_AP\"]]\n",
    "\n",
    "if len(adn.df) > 0:\n",
    "    print(\"Solution for Pt40Au60_AgBP1_nAM_AP >= nPM_AP found. {} solutions.\".format(len(adn.df)))\n",
    "    adn.analyze_all(\"Pt40Au60_AgBP1_nAM_AP >= nPM_AP\")\n",
    "else:\n",
    "    print(\"Solution for Pt40Au60_AgBP1_nAM_AP >= nPM_AP not found.\")"
   ]
  },
  {
   "attachments": {},
   "cell_type": "markdown",
   "metadata": {},
   "source": [
    "# Fixing the bulk fraction of Au and Pt\n",
    "\n",
    "The bulk fraction used in the calculator is now using coordination number.\n",
    "\n",
    "However, bulk fraction can be measured using ICP-MS, and we can fix the bulk fraction of Au and Pt to the measured value.\n",
    "\n",
    "This can be achieved by giving `fix_bulk_fraction = true` in the configuration file."
   ]
  },
  {
   "cell_type": "code",
   "execution_count": null,
   "metadata": {},
   "outputs": [],
   "source": []
  },
  {
   "cell_type": "code",
   "execution_count": 9,
   "metadata": {},
   "outputs": [
    {
     "name": "stderr",
     "output_type": "stream",
     "text": [
      "100%|██████████| 1/1 [00:00<00:00, 98.10it/s]\n",
      "100%|██████████| 1/1 [00:00<00:00, 115.59it/s]\n",
      "100%|██████████| 1/1 [00:00<00:00, 85.88it/s]\n",
      "100%|██████████| 1/1 [00:00<00:00, 223.82it/s]\n",
      "100%|██████████| 1/1 [00:00<00:00, 232.35it/s]\n",
      "100%|██████████| 1/1 [00:00<00:00, 299.49it/s]\n",
      "100%|██████████| 1/1 [00:00<00:00, 229.64it/s]\n",
      "100%|██████████| 1/1 [00:00<00:00, 141.62it/s]"
     ]
    },
    {
     "name": "stdout",
     "output_type": "stream",
     "text": [
      "Solution for Pt20Au80_AgBP1_fix_bulk_fraction_nAM_AP >= nPM_AP not found.\n"
     ]
    },
    {
     "name": "stderr",
     "output_type": "stream",
     "text": [
      "\n"
     ]
    },
    {
     "data": {
      "text/plain": [
       "<Figure size 330x250 with 0 Axes>"
      ]
     },
     "metadata": {},
     "output_type": "display_data"
    }
   ],
   "source": [
    "adn = Analyze(\"../sweep/Pt20Au80_AgBP1_fix_bulk_fraction_results.csv\")\n",
    "adn.analyze_all(\"Pt20Au80_AgBP1_fix_bulk_fraction\")\n",
    "\n",
    "adn.df = adn.df[adn.df[\"nAM_AP\"] >= adn.df[\"nPM_AP\"]]\n",
    "\n",
    "if len(adn.df) > 0:\n",
    "    print(\"Solution for Pt20Au80_AgBP1_fix_bulk_fraction_nAM_AP >= nPM_AP found. {} solutions.\".format(len(adn.df)))\n",
    "    adn.analyze_all(\"Pt20Au80_AgBP1_fix_bulk_fraction_nAM_AP >= nPM_AP\")\n",
    "else:\n",
    "    print(\"Solution for Pt20Au80_AgBP1_fix_bulk_fraction_nAM_AP >= nPM_AP not found.\")"
   ]
  },
  {
   "cell_type": "code",
   "execution_count": 10,
   "metadata": {},
   "outputs": [
    {
     "ename": "AttributeError",
     "evalue": "'float' object has no attribute 'round'",
     "output_type": "error",
     "traceback": [
      "\u001b[0;31m---------------------------------------------------------------------------\u001b[0m",
      "\u001b[0;31mAttributeError\u001b[0m                            Traceback (most recent call last)",
      "Cell \u001b[0;32mIn[10], line 2\u001b[0m\n\u001b[1;32m      1\u001b[0m adn \u001b[39m=\u001b[39m Analyze(\u001b[39m\"\u001b[39m\u001b[39m../sweep/Pt40Au60_AgBP1_fix_bulk_fraction_results.csv\u001b[39m\u001b[39m\"\u001b[39m)\n\u001b[0;32m----> 2\u001b[0m adn\u001b[39m.\u001b[39;49manalyze_all(\u001b[39m\"\u001b[39;49m\u001b[39mPt40Au60_AgBP1_fix_bulk_fraction\u001b[39;49m\u001b[39m\"\u001b[39;49m)\n\u001b[1;32m      4\u001b[0m \u001b[39mif\u001b[39;00m \u001b[39mlen\u001b[39m(adn\u001b[39m.\u001b[39mdf) \u001b[39m>\u001b[39m \u001b[39m0\u001b[39m:\n\u001b[1;32m      5\u001b[0m     \u001b[39mprint\u001b[39m(\u001b[39m\"\u001b[39m\u001b[39mSolution for Pt40Au60_AgBP1_fix_bulk_fraction_nAM_AP >= nPM_AP found. \u001b[39m\u001b[39m{}\u001b[39;00m\u001b[39m solutions.\u001b[39m\u001b[39m\"\u001b[39m\u001b[39m.\u001b[39mformat(\u001b[39mlen\u001b[39m(adn\u001b[39m.\u001b[39mdf)))\n",
      "Cell \u001b[0;32mIn[4], line 161\u001b[0m, in \u001b[0;36mAnalyze.analyze_all\u001b[0;34m(self, title)\u001b[0m\n\u001b[1;32m    158\u001b[0m \u001b[39mself\u001b[39m\u001b[39m.\u001b[39mdf\u001b[39m.\u001b[39mdropna(inplace\u001b[39m=\u001b[39m\u001b[39mTrue\u001b[39;00m)\n\u001b[1;32m    159\u001b[0m \u001b[39mself\u001b[39m\u001b[39m.\u001b[39mdf \u001b[39m=\u001b[39m \u001b[39mself\u001b[39m\u001b[39m.\u001b[39mdf[\u001b[39mself\u001b[39m\u001b[39m.\u001b[39mdf[\u001b[39m\"\u001b[39m\u001b[39my\u001b[39m\u001b[39m\"\u001b[39m] \u001b[39m>\u001b[39m \u001b[39m0\u001b[39m]\n\u001b[0;32m--> 161\u001b[0m \u001b[39mself\u001b[39m\u001b[39m.\u001b[39minput_table_drop \u001b[39m=\u001b[39m \u001b[39mself\u001b[39;49m\u001b[39m.\u001b[39;49mgen_df_table(\u001b[39mself\u001b[39;49m\u001b[39m.\u001b[39;49mget_df_input())\n\u001b[1;32m    162\u001b[0m \u001b[39mself\u001b[39m\u001b[39m.\u001b[39minput_drop_len \u001b[39m=\u001b[39m \u001b[39mself\u001b[39m\u001b[39m.\u001b[39mget_df_len()\n\u001b[1;32m    163\u001b[0m \u001b[39mself\u001b[39m\u001b[39m.\u001b[39moutput_table \u001b[39m=\u001b[39m \u001b[39mself\u001b[39m\u001b[39m.\u001b[39mgen_df_table(\u001b[39mself\u001b[39m\u001b[39m.\u001b[39mget_df_output())\n",
      "Cell \u001b[0;32mIn[4], line 94\u001b[0m, in \u001b[0;36mAnalyze.gen_df_table\u001b[0;34m(self, df)\u001b[0m\n\u001b[1;32m     90\u001b[0m     \u001b[39melse\u001b[39;00m:\n\u001b[1;32m     91\u001b[0m         digits \u001b[39m=\u001b[39m \u001b[39m1\u001b[39m\n\u001b[1;32m     92\u001b[0m     table \u001b[39m=\u001b[39m pd\u001b[39m.\u001b[39mconcat([table,\n\u001b[1;32m     93\u001b[0m                         pd\u001b[39m.\u001b[39mDataFrame([[column,\n\u001b[0;32m---> 94\u001b[0m                                         df[column]\u001b[39m.\u001b[39;49mmin()\u001b[39m.\u001b[39;49mround(digits)\u001b[39m.\u001b[39mastype(\u001b[39m\"\u001b[39m\u001b[39mstr\u001b[39m\u001b[39m\"\u001b[39m),\n\u001b[1;32m     95\u001b[0m                                         df[column]\u001b[39m.\u001b[39mmax()\u001b[39m.\u001b[39mround(digits)\u001b[39m.\u001b[39mastype(\u001b[39m\"\u001b[39m\u001b[39mstr\u001b[39m\u001b[39m\"\u001b[39m),\n\u001b[1;32m     96\u001b[0m                                         df[column]\u001b[39m.\u001b[39mmean()\u001b[39m.\u001b[39mround(digits)\u001b[39m.\u001b[39mastype(\u001b[39m\"\u001b[39m\u001b[39mstr\u001b[39m\u001b[39m\"\u001b[39m),\n\u001b[1;32m     97\u001b[0m                                         df[column]\u001b[39m.\u001b[39mstd()\u001b[39m.\u001b[39mround(digits)\u001b[39m.\u001b[39mastype(\u001b[39m\"\u001b[39m\u001b[39mstr\u001b[39m\u001b[39m\"\u001b[39m)]],columns \u001b[39m=\u001b[39m [\u001b[39m\"\u001b[39m\u001b[39mParameter\u001b[39m\u001b[39m\"\u001b[39m, \u001b[39m\"\u001b[39m\u001b[39mMin\u001b[39m\u001b[39m\"\u001b[39m, \u001b[39m\"\u001b[39m\u001b[39mMax\u001b[39m\u001b[39m\"\u001b[39m, \u001b[39m\"\u001b[39m\u001b[39mMean\u001b[39m\u001b[39m\"\u001b[39m, \u001b[39m\"\u001b[39m\u001b[39mStandard Deviation\u001b[39m\u001b[39m\"\u001b[39m])])\n\u001b[1;32m     99\u001b[0m \u001b[39mreturn\u001b[39;00m table\u001b[39m.\u001b[39mreset_index(drop\u001b[39m=\u001b[39m\u001b[39mTrue\u001b[39;00m)\n",
      "\u001b[0;31mAttributeError\u001b[0m: 'float' object has no attribute 'round'"
     ]
    }
   ],
   "source": [
    "adn = Analyze(\"../sweep/Pt40Au60_AgBP1_fix_bulk_fraction_results.csv\")\n",
    "adn.analyze_all(\"Pt40Au60_AgBP1_fix_bulk_fraction\")\n",
    "\n",
    "if len(adn.df) > 0:\n",
    "    print(\"Solution for Pt40Au60_AgBP1_fix_bulk_fraction_nAM_AP >= nPM_AP found. {} solutions.\".format(len(adn.df)))\n",
    "    adn.analyze_all(\"Pt40Au60_AgBP1_fix_bulk_fraction_nAM_AP >= nPM_AP\")\n",
    "else:\n",
    "    print(\"Solution for Pt40Au60_AgBP1_fix_bulk_fraction_nAM_AP >= nPM_AP not found.\")"
   ]
  },
  {
   "cell_type": "code",
   "execution_count": null,
   "metadata": {},
   "outputs": [],
   "source": []
  },
  {
   "cell_type": "code",
   "execution_count": null,
   "metadata": {},
   "outputs": [
    {
     "name": "stderr",
     "output_type": "stream",
     "text": [
      "100%|██████████| 1/1 [00:00<00:00, 86.78it/s]\n",
      "100%|██████████| 1/1 [00:00<00:00, 113.76it/s]\n",
      "100%|██████████| 1/1 [00:00<00:00, 87.53it/s]\n",
      "100%|██████████| 1/1 [00:00<00:00, 264.83it/s]\n",
      "100%|██████████| 1/1 [00:00<00:00, 271.00it/s]\n",
      "100%|██████████| 1/1 [00:00<00:00, 438.41it/s]\n",
      "100%|██████████| 1/1 [00:00<00:00, 268.33it/s]\n",
      "100%|██████████| 1/1 [00:00<00:00, 173.04it/s]\n"
     ]
    },
    {
     "name": "stdout",
     "output_type": "stream",
     "text": [
      "Solution for Pt20Au80_AgBP1_fix_bulk_fraction_unfix_TEM_nAM_AP >= nPM_AP found. 56 solutions.\n"
     ]
    },
    {
     "name": "stderr",
     "output_type": "stream",
     "text": [
      "100%|██████████| 1/1 [00:00<00:00, 84.85it/s]\n",
      "100%|██████████| 1/1 [00:00<00:00, 133.33it/s]\n",
      "100%|██████████| 1/1 [00:00<00:00, 97.25it/s]\n",
      "100%|██████████| 1/1 [00:00<00:00, 247.22it/s]\n",
      "100%|██████████| 1/1 [00:00<00:00, 261.10it/s]\n",
      "100%|██████████| 1/1 [00:00<00:00, 405.01it/s]\n",
      "100%|██████████| 1/1 [00:00<00:00, 263.49it/s]\n",
      "100%|██████████| 1/1 [00:00<00:00, 174.07it/s]\n"
     ]
    },
    {
     "data": {
      "text/plain": [
       "<Figure size 330x250 with 0 Axes>"
      ]
     },
     "metadata": {},
     "output_type": "display_data"
    }
   ],
   "source": [
    "adn = Analyze(\"../sweep/Pt20Au80_AgBP1_fix_bulk_fraction_unfix_TEM_results.csv\")\n",
    "adn.analyze_all(\"Pt20Au80_AgBP1_fix_bulk_fraction_unfix_TEM\")\n",
    "\n",
    "adn.df = adn.df[adn.df[\"nAM_AP\"] >= adn.df[\"nPM_AP\"]]\n",
    "\n",
    "if len(adn.df) > 0:\n",
    "    print(\"Solution for Pt20Au80_AgBP1_fix_bulk_fraction_unfix_TEM_nAM_AP >= nPM_AP found. {} solutions.\".format(len(adn.df)))\n",
    "    adn.analyze_all(\"Pt20Au80_AgBP1_fix_bulk_fraction_unfix_TEM_nAM_AP >= nPM_AP\")\n",
    "else:\n",
    "    print(\"Solution for Pt20Au80_AgBP1_fix_bulk_fraction_unfix_TEM_nAM_AP >= nPM_AP not found.\")"
   ]
  },
  {
   "cell_type": "code",
   "execution_count": null,
   "metadata": {},
   "outputs": [
    {
     "name": "stderr",
     "output_type": "stream",
     "text": [
      "100%|██████████| 1/1 [00:00<00:00, 112.40it/s]\n",
      "100%|██████████| 1/1 [00:00<00:00, 122.01it/s]\n",
      "100%|██████████| 1/1 [00:00<00:00, 95.77it/s]\n",
      "100%|██████████| 1/1 [00:00<00:00, 260.55it/s]\n",
      "100%|██████████| 1/1 [00:00<00:00, 266.17it/s]\n",
      "100%|██████████| 1/1 [00:00<00:00, 317.68it/s]\n",
      "100%|██████████| 1/1 [00:00<00:00, 212.22it/s]\n",
      "100%|██████████| 1/1 [00:00<00:00, 166.24it/s]"
     ]
    },
    {
     "name": "stdout",
     "output_type": "stream",
     "text": [
      "Solution for Pt40Au60_AgBP1_fix_bulk_fraction_unfix_TEM_nAM_AP >= nPM_AP not found.\n"
     ]
    },
    {
     "name": "stderr",
     "output_type": "stream",
     "text": [
      "\n"
     ]
    },
    {
     "data": {
      "text/plain": [
       "<Figure size 330x250 with 0 Axes>"
      ]
     },
     "metadata": {},
     "output_type": "display_data"
    }
   ],
   "source": [
    "adn = Analyze(\"../sweep/Pt40Au60_AgBP1_fix_bulk_fraction_unfix_TEM_results.csv\")\n",
    "adn.analyze_all(\"Pt40Au60_AgBP1_fix_bulk_fraction_unfix_TEM\")\n",
    "\n",
    "adn.df = adn.df[adn.df[\"nAM_AP\"] >= adn.df[\"nPM_AP\"]]\n",
    "\n",
    "if len(adn.df) > 0:\n",
    "    print(\"Solution for Pt40Au60_AgBP1_fix_bulk_fraction_unfix_TEM_nAM_AP >= nPM_AP found. {} solutions.\".format(len(adn.df)))\n",
    "    adn.analyze_all(\"Pt40Au60_AgBP1_fix_bulk_fraction_unfix_TEM_nAM_AP >= nPM_AP\")\n",
    "else:\n",
    "    print(\"Solution for Pt40Au60_AgBP1_fix_bulk_fraction_unfix_TEM_nAM_AP >= nPM_AP not found.\")"
   ]
  },
  {
   "cell_type": "code",
   "execution_count": null,
   "metadata": {},
   "outputs": [],
   "source": []
  },
  {
   "cell_type": "code",
   "execution_count": null,
   "metadata": {},
   "outputs": [
    {
     "name": "stderr",
     "output_type": "stream",
     "text": [
      "100%|██████████| 1/1 [00:00<00:00, 82.95it/s]\n",
      "100%|██████████| 1/1 [00:00<00:00, 120.79it/s]\n",
      "100%|██████████| 1/1 [00:00<00:00, 100.20it/s]\n",
      "100%|██████████| 1/1 [00:00<00:00, 269.40it/s]\n",
      "100%|██████████| 1/1 [00:00<00:00, 238.99it/s]\n",
      "100%|██████████| 1/1 [00:00<00:00, 376.24it/s]\n",
      "100%|██████████| 1/1 [00:00<00:00, 258.94it/s]\n",
      "100%|██████████| 1/1 [00:00<00:00, 164.04it/s]\n"
     ]
    },
    {
     "name": "stdout",
     "output_type": "stream",
     "text": [
      "Solution for Pt20Au80_AgBP1_unfix_TEM_nAM_AP >= nPM_AP found. 216 solutions.\n"
     ]
    },
    {
     "name": "stderr",
     "output_type": "stream",
     "text": [
      "100%|██████████| 1/1 [00:00<00:00, 85.38it/s]\n",
      "100%|██████████| 1/1 [00:00<00:00, 140.33it/s]\n",
      "100%|██████████| 1/1 [00:00<00:00, 94.00it/s]\n",
      "100%|██████████| 1/1 [00:00<00:00, 248.74it/s]\n",
      "100%|██████████| 1/1 [00:00<00:00, 276.85it/s]\n",
      "100%|██████████| 1/1 [00:00<00:00, 443.33it/s]\n",
      "100%|██████████| 1/1 [00:00<00:00, 255.73it/s]\n",
      "100%|██████████| 1/1 [00:00<00:00, 169.06it/s]\n"
     ]
    },
    {
     "data": {
      "text/plain": [
       "<Figure size 330x250 with 0 Axes>"
      ]
     },
     "metadata": {},
     "output_type": "display_data"
    }
   ],
   "source": [
    "adn = Analyze(\"../sweep/Pt20Au80_AgBP1_unfix_TEM_results.csv\")\n",
    "adn.analyze_all(\"Pt20Au80_AgBP1_fix_unfix_TEM\")\n",
    "\n",
    "adn.df = adn.df[adn.df[\"nAM_AP\"] >= adn.df[\"nPM_AP\"]]\n",
    "\n",
    "if len(adn.df) > 0:\n",
    "    print(\"Solution for Pt20Au80_AgBP1_unfix_TEM_nAM_AP >= nPM_AP found. {} solutions.\".format(len(adn.df)))\n",
    "    adn.analyze_all(\"Pt20Au80_AgBP1_unfix_TEM_nAM_AP >= nPM_AP\")\n",
    "else:\n",
    "    print(\"Solution for Pt20Au80_AgBP1_unfix_TEM_nAM_AP >= nPM_AP not found.\")"
   ]
  },
  {
   "cell_type": "code",
   "execution_count": null,
   "metadata": {},
   "outputs": [
    {
     "name": "stderr",
     "output_type": "stream",
     "text": [
      "100%|██████████| 1/1 [00:00<00:00, 87.53it/s]\n",
      "100%|██████████| 1/1 [00:00<00:00, 115.51it/s]\n",
      "100%|██████████| 1/1 [00:00<00:00, 95.08it/s]\n",
      "100%|██████████| 1/1 [00:00<00:00, 229.79it/s]\n",
      "100%|██████████| 1/1 [00:00<00:00, 125.85it/s]\n",
      "100%|██████████| 1/1 [00:00<00:00, 186.92it/s]\n",
      "100%|██████████| 1/1 [00:00<00:00, 206.52it/s]\n",
      "100%|██████████| 1/1 [00:00<00:00, 84.50it/s]\n"
     ]
    },
    {
     "name": "stdout",
     "output_type": "stream",
     "text": [
      "Solution for Pt40Au60_AgBP1_unfix_TEM_nAM_AP >= nPM_AP found. 7618 solutions.\n"
     ]
    },
    {
     "name": "stderr",
     "output_type": "stream",
     "text": [
      "100%|██████████| 1/1 [00:00<00:00, 105.73it/s]\n",
      "100%|██████████| 1/1 [00:00<00:00, 122.13it/s]\n",
      "100%|██████████| 1/1 [00:00<00:00, 88.75it/s]\n",
      "100%|██████████| 1/1 [00:00<00:00, 262.41it/s]\n",
      "100%|██████████| 1/1 [00:00<00:00, 247.03it/s]\n",
      "100%|██████████| 1/1 [00:00<00:00, 334.98it/s]\n",
      "100%|██████████| 1/1 [00:00<00:00, 268.45it/s]\n",
      "100%|██████████| 1/1 [00:00<00:00, 161.60it/s]\n"
     ]
    },
    {
     "data": {
      "text/plain": [
       "<Figure size 330x250 with 0 Axes>"
      ]
     },
     "metadata": {},
     "output_type": "display_data"
    }
   ],
   "source": [
    "adn = Analyze(\"../sweep/Pt40Au60_AgBP1_unfix_TEM_fraction_results.csv\")\n",
    "adn.analyze_all(\"Pt40Au60_AgBP1_fix_unfix_TEM\")\n",
    "\n",
    "adn.df = adn.df[adn.df[\"nAM_AP\"] >= adn.df[\"nPM_AP\"]]\n",
    "\n",
    "if len(adn.df) > 0:\n",
    "    print(\"Solution for Pt40Au60_AgBP1_unfix_TEM_nAM_AP >= nPM_AP found. {} solutions.\".format(len(adn.df)))\n",
    "    adn.analyze_all(\"Pt40Au60_AgBP1_unfix_TEM_nAM_AP >= nPM_AP\")\n",
    "else:\n",
    "    print(\"Solution for Pt40Au60_AgBP1_unfix_TEM_nAM_AP >= nPM_AP not found.\")"
   ]
  },
  {
   "cell_type": "code",
   "execution_count": null,
   "metadata": {},
   "outputs": [],
   "source": []
  },
  {
   "cell_type": "code",
   "execution_count": null,
   "metadata": {},
   "outputs": [],
   "source": []
  },
  {
   "cell_type": "code",
   "execution_count": null,
   "metadata": {},
   "outputs": [],
   "source": []
  }
 ],
 "metadata": {
  "kernelspec": {
   "display_name": "decomnano",
   "language": "python",
   "name": "python3"
  },
  "language_info": {
   "codemirror_mode": {
    "name": "ipython",
    "version": 3
   },
   "file_extension": ".py",
   "mimetype": "text/x-python",
   "name": "python",
   "nbconvert_exporter": "python",
   "pygments_lexer": "ipython3",
   "version": "3.11.3"
  },
  "orig_nbformat": 4
 },
 "nbformat": 4,
 "nbformat_minor": 2
}
