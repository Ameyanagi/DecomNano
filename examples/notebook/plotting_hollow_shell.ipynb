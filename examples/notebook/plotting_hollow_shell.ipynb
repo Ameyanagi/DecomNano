{
 "cells": [
  {
   "attachments": {},
   "cell_type": "markdown",
   "metadata": {},
   "source": [
    "# A Notebook to demonstrate plotting of the output (hollow shell estimation)\n"
   ]
  },
  {
   "attachments": {},
   "cell_type": "markdown",
   "metadata": {},
   "source": [
    "## Installing the required packages"
   ]
  },
  {
   "cell_type": "code",
   "execution_count": 12,
   "metadata": {},
   "outputs": [
    {
     "name": "stdout",
     "output_type": "stream",
     "text": [
      "Requirement already satisfied: seaborn in /Users/ryuichi/mambaforge/envs/decomnano/lib/python3.11/site-packages (0.12.2)\n",
      "Requirement already satisfied: pptemp in /Users/ryuichi/mambaforge/envs/decomnano/lib/python3.11/site-packages (0.1.0)\n",
      "Requirement already satisfied: scienceplots in /Users/ryuichi/mambaforge/envs/decomnano/lib/python3.11/site-packages (2.0.1)\n",
      "Requirement already satisfied: numpy!=1.24.0,>=1.17 in /Users/ryuichi/mambaforge/envs/decomnano/lib/python3.11/site-packages (from seaborn) (1.24.3)\n",
      "Requirement already satisfied: pandas>=0.25 in /Users/ryuichi/mambaforge/envs/decomnano/lib/python3.11/site-packages (from seaborn) (2.0.1)\n",
      "Requirement already satisfied: matplotlib!=3.6.1,>=3.1 in /Users/ryuichi/mambaforge/envs/decomnano/lib/python3.11/site-packages (from seaborn) (3.7.1)\n",
      "Requirement already satisfied: python-pptx in /Users/ryuichi/mambaforge/envs/decomnano/lib/python3.11/site-packages (from pptemp) (0.6.21)\n",
      "Requirement already satisfied: lxml in /Users/ryuichi/mambaforge/envs/decomnano/lib/python3.11/site-packages (from pptemp) (4.9.2)\n",
      "Requirement already satisfied: Pillow in /Users/ryuichi/mambaforge/envs/decomnano/lib/python3.11/site-packages (from pptemp) (9.5.0)\n",
      "Requirement already satisfied: tqdm in /Users/ryuichi/mambaforge/envs/decomnano/lib/python3.11/site-packages (from pptemp) (4.65.0)\n",
      "Requirement already satisfied: contourpy>=1.0.1 in /Users/ryuichi/mambaforge/envs/decomnano/lib/python3.11/site-packages (from matplotlib!=3.6.1,>=3.1->seaborn) (1.0.7)\n",
      "Requirement already satisfied: cycler>=0.10 in /Users/ryuichi/mambaforge/envs/decomnano/lib/python3.11/site-packages (from matplotlib!=3.6.1,>=3.1->seaborn) (0.11.0)\n",
      "Requirement already satisfied: fonttools>=4.22.0 in /Users/ryuichi/mambaforge/envs/decomnano/lib/python3.11/site-packages (from matplotlib!=3.6.1,>=3.1->seaborn) (4.39.3)\n",
      "Requirement already satisfied: kiwisolver>=1.0.1 in /Users/ryuichi/mambaforge/envs/decomnano/lib/python3.11/site-packages (from matplotlib!=3.6.1,>=3.1->seaborn) (1.4.4)\n",
      "Requirement already satisfied: packaging>=20.0 in /Users/ryuichi/mambaforge/envs/decomnano/lib/python3.11/site-packages (from matplotlib!=3.6.1,>=3.1->seaborn) (23.1)\n",
      "Requirement already satisfied: pyparsing>=2.3.1 in /Users/ryuichi/mambaforge/envs/decomnano/lib/python3.11/site-packages (from matplotlib!=3.6.1,>=3.1->seaborn) (3.0.9)\n",
      "Requirement already satisfied: python-dateutil>=2.7 in /Users/ryuichi/mambaforge/envs/decomnano/lib/python3.11/site-packages (from matplotlib!=3.6.1,>=3.1->seaborn) (2.8.2)\n",
      "Requirement already satisfied: pytz>=2020.1 in /Users/ryuichi/mambaforge/envs/decomnano/lib/python3.11/site-packages (from pandas>=0.25->seaborn) (2023.3)\n",
      "Requirement already satisfied: tzdata>=2022.1 in /Users/ryuichi/mambaforge/envs/decomnano/lib/python3.11/site-packages (from pandas>=0.25->seaborn) (2023.3)\n",
      "Requirement already satisfied: XlsxWriter>=0.5.7 in /Users/ryuichi/mambaforge/envs/decomnano/lib/python3.11/site-packages (from python-pptx->pptemp) (3.1.0)\n",
      "Requirement already satisfied: six>=1.5 in /Users/ryuichi/mambaforge/envs/decomnano/lib/python3.11/site-packages (from python-dateutil>=2.7->matplotlib!=3.6.1,>=3.1->seaborn) (1.16.0)\n",
      "\n",
      "\u001b[1m[\u001b[0m\u001b[34;49mnotice\u001b[0m\u001b[1;39;49m]\u001b[0m\u001b[39;49m A new release of pip is available: \u001b[0m\u001b[31;49m23.1.2\u001b[0m\u001b[39;49m -> \u001b[0m\u001b[32;49m23.2.1\u001b[0m\n",
      "\u001b[1m[\u001b[0m\u001b[34;49mnotice\u001b[0m\u001b[1;39;49m]\u001b[0m\u001b[39;49m To update, run: \u001b[0m\u001b[32;49mpip install --upgrade pip\u001b[0m\n"
     ]
    }
   ],
   "source": [
    "!pip install seaborn pptemp scienceplots"
   ]
  },
  {
   "attachments": {},
   "cell_type": "markdown",
   "metadata": {},
   "source": [
    "## Defining the Labels for the plots"
   ]
  },
  {
   "cell_type": "code",
   "execution_count": 13,
   "metadata": {},
   "outputs": [],
   "source": [
    "label_dict = {\n",
    "    \"nAA_A\": r\"$n_{A-A}$\",\n",
    "    \"nPP_P\": r\"$n_{P-P}$\",\n",
    "    \"nMM_AP\": r\"$n_{M-M}$\",\n",
    "    \"XAP\": r\"$X_{AP}$\",\n",
    "    \"XA\": r\"$X_{A}$\",\n",
    "    \"XP\": r\"$X_{P}$\",\n",
    "    \"y\": r\"$y$\",\n",
    "    \"DA\": r\"$D_{A}$\",\n",
    "    \"DAP\": r\"$D_{AP}$\",\n",
    "    \"DP\": r\"$D_{P}$\",\n",
    "    \"DAPh\": r\"$D_{APh}$\",\n",
    "    \"nAM_AP\": r\"$n_{A-M,AP}$\",\n",
    "    \"nPM_AP\": r\"$n_{P-M,AP}$\",\n",
    "    \"nAA_AP\": r\"$n_{A-A,AP}$\",\n",
    "    \"nAP_AP\": r\"$n_{A-P,AP}$\",\n",
    "    \"nPA_AP\": r\"$n_{P-A,AP}$\",\n",
    "    \"nPP_AP\": r\"$n_{P-P,AP}$\",\n",
    "    \"dA\": r\"$d_{A}$\",\n",
    "    \"dP\": r\"$d_{P}$\",\n",
    "    \"dAP\": r\"$d_{AP}$\",\n",
    "    \"fA\": r\"$f_{A}$\",\n",
    "    \"nAA\": r\"$n_{A-A}$\",\n",
    "    \"nPP\": r\"$n_{P-P}$\",\n",
    "    \"nAP\": r\"$n_{A-P}$\",\n",
    "    \"nPA\": r\"$n_{P-A}$\",\n",
    "    \"NA\": r\"$N_{A}$\",\n",
    "    \"NP\": r\"$N_{P}$\",\n",
    "    \"NAP\": r\"$N_{AP}$\",\n",
    "}"
   ]
  },
  {
   "attachments": {},
   "cell_type": "markdown",
   "metadata": {},
   "source": [
    "## Defining the functions to plot the data"
   ]
  },
  {
   "cell_type": "code",
   "execution_count": 14,
   "metadata": {},
   "outputs": [],
   "source": [
    "import os\n",
    "import re\n",
    "import glob\n",
    "from datetime import date\n",
    "import pandas as pd\n",
    "import matplotlib.pyplot as plt\n",
    "import matplotlib as mpl\n",
    "import matplotlib.ticker as ticker\n",
    "import numpy as np\n",
    "import seaborn as sns\n",
    "import scienceplots\n",
    "\n",
    "import pptemp\n",
    "\n",
    "plt.style.use(['science','nature'])\n",
    "plt.rcParams.update({'font.size': 15})\n",
    "\n",
    "class Analyze(object):\n",
    "    def __init__(self, path = None):\n",
    "        self.df = pd.DataFrame()\n",
    "        \n",
    "        if path is not None:\n",
    "            self.init_df(path)\n",
    "        \n",
    "    def init_df(self, path):\n",
    "        self.df = pd.read_csv(path)\n",
    "    \n",
    "    def L(self, D, d):\n",
    "        return D/2/d\n",
    "    \n",
    "    def n(self, D, d):\n",
    "        return  6 * self.L(D,d) * (20 * self.L(D,d) ** 2 + 15 * self.L(D,d) + 7) / (10 * self.L(D,d) ** 3 + 15 * self.L(D,d) ** 2 + 11 * self.L(D,d) + 3)\n",
    "    \n",
    "    def Natom(self, D, d):\n",
    "        return (10 * self.L(D,d) ** 3 + 15 * self.L(D,d) ** 2 + 11 * self.L(D,d) + 3) / 3\n",
    "    \n",
    "    def calc_all_parameters(self):\n",
    "        self.df[\"dAP\"] = self.df[\"fA\"] * self.df[\"dA\"] + (1- self.df[\"fA\"]) * self.df[\"dP\"]\n",
    "        \n",
    "        self.df[\"nMM_AP\"] = self.n(self.df[\"DAP\"], self.df[\"dAP\"])\n",
    "        self.df[\"nAA_A\"] = self.n(self.df[\"DA\"], self.df[\"dA\"])\n",
    "        self.df[\"nPP_P\"] = self.n(self.df[\"DP\"], self.df[\"dP\"])\n",
    "        \n",
    "        self.df[\"NA\"] = self.Natom(self.df[\"DA\"], self.df[\"dA\"])\n",
    "        self.df[\"NP\"] = self.Natom(self.df[\"DP\"], self.df[\"dP\"])\n",
    "        self.df[\"NAP\"] = self.Natom(self.df[\"DAP\"], self.df[\"dAP\"])\n",
    "        \n",
    "        self.df[\"XA*NA\"] = self.df[\"XA\"] * self.df[\"NA\"]\n",
    "        self.df[\"XP*NP\"] = self.df[\"XP\"] * self.df[\"NP\"]\n",
    "        self.df[\"XAP*NAP\"] = self.df[\"XAP\"] * self.df[\"NAP\"]\n",
    "        \n",
    "        \n",
    "    def Plot(self):\n",
    "        pass\n",
    "\n",
    "    input_columns = [\"dP\", \"dA\", \"fA\", \"nAA\", \"nPP\", \"nAP\", \"nPA\", \"DA\", \"DAP\", \"DP\", \"DAPh\"]\n",
    "    calculated_columns = [\"dAP\", \"nMM_AP\", \"nAA_A\", \"nPP_P\", \"NA\", \"NP\", \"NAP\"]\n",
    "    solved_columns = [\"nAM_AP\", \"nPM_AP\", \"nAA_AP\", \"nAP_AP\", \"nPA_AP\", \"nPP_AP\", \"XAP\", \"XA\", \"XP\", \"y\"]\n",
    "    hetero_columns = [\"XA*NA\", \"XP*NP\", \"XAP*NAP\", \"y\", \"nAM_AP\", \"nPM_AP\"]\n",
    "\n",
    "    n_columns = [\"nAA_A\", \"nPP_P\", \"nMM_AP\"]\n",
    "    X_columns = [\"XAP\", \"XA\", \"XP\"]\n",
    "    y_columns = [\"y\"]\n",
    "    D_columns = [\"DA\", \"DAP\", \"DP\", \"DAPh\"]\n",
    "    N_columns = [\"nAM_AP\", \"nPM_AP\", \"nAA_AP\", \"nAP_AP\", \"nPA_AP\", \"nPP_AP\"]\n",
    "    d_columns = [\"dA\", \"dP\", \"dAP\"]\n",
    "    f_columns = [\"fA\"]\n",
    "    n_sample_columns = [\"nAA\", \"nPP\", \"nAP\", \"nPA\"]\n",
    "    N_calc_columns = [\"NA\", \"NP\", \"NAP\"]\n",
    "    \n",
    "    \n",
    "\n",
    "    def calc_df_range(self, df):\n",
    "        columns = df.columns.sort_values()\n",
    "        input_detail = \"\"\n",
    "        input_format = \"{label}: min:{min: .1f}, max:{max: .1f}\\n\"\n",
    "        for column in columns:\n",
    "            input_detail += input_format.format(label=column, min=self.df[column].min(), max=self.df[column].max())\n",
    "        \n",
    "        return input_detail\n",
    "    \n",
    "    def gen_df_table(self, df):\n",
    "        table = None\n",
    "        # columns = df.columns.sort_values()\n",
    "        columns = df.columns\n",
    "                \n",
    "        for column in columns:\n",
    "            if column in self.X_columns or column in self.y_columns:\n",
    "                digits = 2\n",
    "            else:\n",
    "                digits = 1\n",
    "            table = pd.concat([table,\n",
    "                                pd.DataFrame([[column,\n",
    "                                                # str(df[column].min()),\n",
    "                                                # str(df[column].max()),\n",
    "                                                # str(df[column].mean()),\n",
    "                                                # str(df[column].std())]],columns = [\"Parameter\", \"Min\", \"Max\", \"Mean\", \"Standard Deviation\"])])\n",
    "                                                df[column].min().round(digits).astype(\"str\"),\n",
    "                                                df[column].max().round(digits).astype(\"str\"),\n",
    "                                                df[column].mean().round(digits).astype(\"str\"),\n",
    "                                                df[column].std().round(digits).astype(\"str\")]],columns = [\"Parameter\", \"Min\", \"Max\", \"Mean\", \"Standard Deviation\"])])\n",
    "                    \n",
    "        return table.reset_index(drop=True)\n",
    "    \n",
    "    def get_df_input(self):\n",
    "        return self.df[self.input_columns]\n",
    "    \n",
    "    def get_df_output(self):\n",
    "        return self.df #self.df.drop(self.input_columns, axis=1)\n",
    "    \n",
    "    def get_df_len(self):\n",
    "        return len(self.df)\n",
    "\n",
    "    def calc_bins(self, bin_range=(0, 1), bins=20):\n",
    "        bin_offset = (bin_range[1] - bin_range[0]) / bins\n",
    "        return np.linspace(bin_range[0] + bin_offset / 2, bin_range[1] - bin_offset / 2, bins)\n",
    "\n",
    "    def plot_histogram(self, column, path):\n",
    "        \n",
    "        \n",
    "        \n",
    "        if column in self.n_columns or column in self.N_columns or column in self.n_sample_columns:\n",
    "            sns.histplot(self.df[column], bins=self.calc_bins((0, 12), 20), stat=\"probability\")\n",
    "            plt.xlabel(\"Coordination Number {}\".format(label_dict[column]))\n",
    "        elif column in self.X_columns:\n",
    "            sns.histplot(self.df[column], bins=self.calc_bins((0, 1), 20), stat=\"probability\")\n",
    "            plt.xlabel(\"Mole Fraction of Particle {} [mol\\%]\".format(label_dict[column]))\n",
    "        elif column in self.y_columns:\n",
    "            sns.histplot(self.df[column], bins=self.calc_bins((0, 1), 20), stat=\"probability\")\n",
    "            plt.xlabel(\"Au Fraction in AuPt BNPs {} [mol\\%]\".format(label_dict[column]))\n",
    "        elif column in self.D_columns:\n",
    "            sns.histplot(self.df[column], bins=self.calc_bins((0, 20), 20), stat=\"probability\")\n",
    "            plt.xlabel(\"Particle Diameter {} [Å]\".format(label_dict[column]))\n",
    "        elif column in self.d_columns:\n",
    "            sns.histplot(self.df[column], bins=self.calc_bins((2, 3), 20), stat=\"probability\")\n",
    "            plt.xlabel(\"Interatomic Distance {} [Å]\".format(label_dict[column]))\n",
    "        elif column in self.f_columns:\n",
    "            sns.histplot(self.df[column], bins=self.calc_bins((0, 1), 20), stat=\"probability\")\n",
    "            plt.xlabel(\"Nominal Au Fraction in Sample {} [mol\\%]\".format(label_dict[column]))\n",
    "        elif column in self.N_calc_columns:\n",
    "            max_N = self.df[column].max()\n",
    "            max_N = (max_N//50)*50 + 50\n",
    "            sns.histplot(self.df[column], bins=self.calc_bins((0, max_N), 50), stat=\"probability\")\n",
    "            plt.xlabel(\"Number of Atoms in Particle {}\".format(label_dict[column]))\n",
    "        else:\n",
    "           sns.histplot(self.df[column])\n",
    "        \n",
    "        plt.ylabel('Frequency [\\%]')\n",
    "        plt.gca().yaxis.set_major_formatter(ticker.FormatStrFormatter('%0.2f'))\n",
    "        \n",
    "        file = os.path.join(path, column + \" \" + self.df_results[column] + \".png\")\n",
    "        os.makedirs(os.path.dirname(file), exist_ok=True)\n",
    "        plt.savefig(file, dpi=300)\n",
    "        plt.clf()\n",
    "    \n",
    "    def analyze_all(self, title):\n",
    "        self.calc_all_parameters()\n",
    "                \n",
    "        self.input_table = self.gen_df_table(self.get_df_input())\n",
    "        self.input_len = self.get_df_len()\n",
    "        \n",
    "        self.df.dropna(inplace=True)\n",
    "        self.df = self.df[self.df[\"y\"] > 0]\n",
    "        \n",
    "        \n",
    "        self.input_table_drop = self.gen_df_table(self.get_df_input())\n",
    "        self.input_drop_len = self.get_df_len()\n",
    "        self.output_table = self.gen_df_table(self.get_df_output())\n",
    "        self.calculated_table = self.gen_df_table(self.df[self.calculated_columns])\n",
    "        self.solved_table = self.gen_df_table(self.df[self.solved_columns])\n",
    "        self.hetero_table = self.gen_df_table(self.df[self.hetero_columns])\n",
    "        self.df_results = \"mean: \" + self.df.mean().round(2).astype(\"str\") + \" sd:\" + self.df.std().round(2).astype(\"str\")\n",
    "                \n",
    "        prefix = title\n",
    "        \n",
    "        for data in self.input_columns:\n",
    "            self.plot_histogram(data, prefix + \"/1 Distribution of input data\")\n",
    "        \n",
    "        for data in self.calculated_columns:\n",
    "            self.plot_histogram(data, prefix + \"/2 Distribution of calculated data\")\n",
    "        \n",
    "        for data in self.solved_columns:\n",
    "            self.plot_histogram(data, prefix + \"/3 Distribution of solved data\")\n",
    "        \n",
    "        for data in self.n_columns:\n",
    "            self.plot_histogram(data, prefix + \"/4 Distribution of n (Overall Cordination Number)\")\n",
    "            \n",
    "        for data in self.X_columns:\n",
    "            self.plot_histogram(data, prefix + \"/5 Distribution of X (Fraction of Nanoparticle)\")\n",
    "        \n",
    "        for data in self.y_columns:\n",
    "            self.plot_histogram(data, prefix + \"/6 Distribution of y (Fraction of Au in Nanoparticle)\")\n",
    "        \n",
    "        for data in self.D_columns:\n",
    "            self.plot_histogram(data, prefix + \"/7 Distribution of D (Diameter of Nanoparticle)\")\n",
    "        \n",
    "        for data in self.N_columns:\n",
    "            self.plot_histogram(data, prefix + \"/8 Distribution of n (Coordination Number of Nanoparticle)\")\n",
    "        \n",
    "        self.make_slides(prefix)\n",
    "        \n",
    "    def make_slides(self, title):\n",
    "        # initialization\n",
    "        presentation = pptemp.pptemp()\n",
    "            \n",
    "        # Slide 1 Title\n",
    "        slide = presentation.add_title_slide(title, str(date.today()))\n",
    "        \n",
    "        slide = presentation.add_content_slide(\"Input Parameters for DecomNano\", font_size=24)\n",
    "        presentation.add_textbox(slide, \"Input Parameters (All) \" + str(self.input_len) + \" data\", 2.5, 12, 45, 10)\n",
    "        presentation.add_table_from_df(slide, self.input_table,2.5,22,45,78, font_size=12)\n",
    "        presentation.add_textbox(slide, \"Input Parameters\\n(Droped parameters with no answer) \" + str(self.input_drop_len) + \" data\", 52.5, 12, 45, 10)\n",
    "        presentation.add_table_from_df(slide, self.input_table_drop,52.5,22,45,78, font_size=12)\n",
    "        \n",
    "        slide = presentation.add_content_slide(\"Ouput Parameters\", font_size=24)\n",
    "        presentation.add_table_from_df(slide, self.output_table,25,12,50,88, font_size=12)\n",
    "        \n",
    "        slide = presentation.add_content_slide(\"Solution of DecomNano\", font_size=24)\n",
    "        presentation.add_table_from_df(slide, self.solved_table,25,12,50,88, font_size=12)\n",
    "        \n",
    "        slide = presentation.add_content_slide(\"Other Parameters Calculated in the DecomNano\", font_size=24)\n",
    "        presentation.add_table_from_df(slide, self.calculated_table,25,12,50,88, font_size=12)\n",
    "        \n",
    "        slide = presentation.add_content_slide(\"Extracted Parameter Related to Hetereogeneity\", font_size=24)\n",
    "        presentation.add_table_from_df(slide, self.hetero_table,25,12,50,88, font_size=12)\n",
    "                \n",
    "        \n",
    "        dir_list = glob.glob(title + \"/*/\")\n",
    "        dir_list.sort()\n",
    "        \n",
    "        for dir in dir_list:\n",
    "            if os.path.isdir(dir):\n",
    "                presentation.add_figure_label_slide(dir_path=dir, label_font_size=12, title_font_size=24, file_regex=re.compile(r\".*[/\\\\](.*)\\.[a-zA-Z_]+\"))\n",
    "        \n",
    "        # save\n",
    "        file = \"slides/\"+ title +\".pptx\"\n",
    "        os.makedirs(os.path.dirname(file), exist_ok=True)\n",
    "        presentation.save(file)"
   ]
  },
  {
   "attachments": {},
   "cell_type": "markdown",
   "metadata": {},
   "source": [
    "## Plot and save the data to PowerPoint slides"
   ]
  },
  {
   "cell_type": "code",
   "execution_count": 17,
   "metadata": {},
   "outputs": [
    {
     "name": "stderr",
     "output_type": "stream",
     "text": [
      "100%|██████████| 1/1 [00:00<00:00, 102.21it/s]\n",
      "100%|██████████| 1/1 [00:00<00:00, 124.24it/s]\n",
      "100%|██████████| 1/1 [00:00<00:00, 91.88it/s]\n",
      "100%|██████████| 1/1 [00:00<00:00, 247.47it/s]\n",
      "100%|██████████| 1/1 [00:00<00:00, 216.97it/s]\n",
      "100%|██████████| 1/1 [00:00<00:00, 333.86it/s]\n",
      "100%|██████████| 1/1 [00:00<00:00, 218.04it/s]\n",
      "100%|██████████| 1/1 [00:00<00:00, 148.77it/s]\n"
     ]
    },
    {
     "data": {
      "text/plain": [
       "<Figure size 330x250 with 0 Axes>"
      ]
     },
     "metadata": {},
     "output_type": "display_data"
    }
   ],
   "source": [
    "#Plot the histogram of the input data and save to pptx slides\n",
    "adn = Analyze(\"../sweep/Pt40Au60_AgBP1_hollow_shell_TEM_correction_results.csv\")\n",
    "adn.analyze_all(\"Pt40Au60_AgBP1_hollow_shell\")"
   ]
  },
  {
   "cell_type": "code",
   "execution_count": 18,
   "metadata": {},
   "outputs": [
    {
     "name": "stderr",
     "output_type": "stream",
     "text": [
      "100%|██████████| 1/1 [00:00<00:00, 97.23it/s]\n",
      "100%|██████████| 1/1 [00:00<00:00, 119.97it/s]\n",
      "100%|██████████| 1/1 [00:00<00:00, 89.79it/s]\n",
      "100%|██████████| 1/1 [00:00<00:00, 224.47it/s]\n",
      "100%|██████████| 1/1 [00:00<00:00, 224.37it/s]\n",
      "100%|██████████| 1/1 [00:00<00:00, 338.28it/s]\n",
      "100%|██████████| 1/1 [00:00<00:00, 167.93it/s]\n",
      "100%|██████████| 1/1 [00:00<00:00, 146.84it/s]\n"
     ]
    },
    {
     "data": {
      "text/plain": [
       "<Figure size 330x250 with 0 Axes>"
      ]
     },
     "metadata": {},
     "output_type": "display_data"
    }
   ],
   "source": [
    "#Plot the histogram of the input data and save to pptx slides\n",
    "adn = Analyze(\"../sweep/Pt20Au80_AgBP1_hollow_shell_TEM_correction_results.csv\")\n",
    "adn.analyze_all(\"Pt20Au80_AgBP1_hollow_shell\")"
   ]
  },
  {
   "cell_type": "code",
   "execution_count": null,
   "metadata": {},
   "outputs": [],
   "source": []
  },
  {
   "cell_type": "code",
   "execution_count": 7,
   "metadata": {},
   "outputs": [
    {
     "name": "stderr",
     "output_type": "stream",
     "text": [
      "100%|██████████| 1/1 [00:00<00:00, 98.64it/s]\n",
      "100%|██████████| 1/1 [00:00<00:00, 108.90it/s]\n",
      "100%|██████████| 1/1 [00:00<00:00, 81.92it/s]\n",
      "100%|██████████| 1/1 [00:00<00:00, 197.83it/s]\n",
      "100%|██████████| 1/1 [00:00<00:00, 230.89it/s]\n",
      "100%|██████████| 1/1 [00:00<00:00, 272.48it/s]\n",
      "100%|██████████| 1/1 [00:00<00:00, 190.26it/s]\n",
      "100%|██████████| 1/1 [00:00<00:00, 104.50it/s]\n"
     ]
    },
    {
     "data": {
      "text/plain": [
       "<Figure size 330x250 with 0 Axes>"
      ]
     },
     "metadata": {},
     "output_type": "display_data"
    }
   ],
   "source": [
    "#Plot the histogram of the input data and save to pptx slides\n",
    "adn = Analyze(\"../sweep/Pt20Au80_AgBP1_hollow_shell_results.csv\")\n",
    "adn.analyze_all(\"Pt20Au80_AgBP1_hollow_shell\")"
   ]
  },
  {
   "cell_type": "code",
   "execution_count": 9,
   "metadata": {},
   "outputs": [
    {
     "name": "stderr",
     "output_type": "stream",
     "text": [
      "100%|██████████| 1/1 [00:00<00:00, 91.31it/s]\n",
      "100%|██████████| 1/1 [00:00<00:00, 120.05it/s]\n",
      "100%|██████████| 1/1 [00:00<00:00, 82.25it/s]\n",
      "100%|██████████| 1/1 [00:00<00:00, 192.53it/s]\n",
      "100%|██████████| 1/1 [00:00<00:00, 209.87it/s]\n",
      "100%|██████████| 1/1 [00:00<00:00, 332.22it/s]\n",
      "100%|██████████| 1/1 [00:00<00:00, 186.12it/s]\n",
      "100%|██████████| 1/1 [00:00<00:00, 163.90it/s]\n"
     ]
    },
    {
     "data": {
      "text/plain": [
       "<Figure size 330x250 with 0 Axes>"
      ]
     },
     "metadata": {},
     "output_type": "display_data"
    }
   ],
   "source": [
    "#Plot the histogram of the input data and save to pptx slides\n",
    "adn = Analyze(\"../sweep/Pt20Au80_AgBP1_hollow_shell_results.csv\")\n",
    "adn.df = adn.df[adn.df[\"XA\"] > adn.df[\"XAP\"]]\n",
    "adn.analyze_all(\"Pt20Au80_AgBP1_hollow_shell_XA>XAP\")"
   ]
  },
  {
   "cell_type": "code",
   "execution_count": null,
   "metadata": {},
   "outputs": [],
   "source": [
    "#Plot the histogram of the input data and save to pptx slides\n",
    "adn = Analyze(\"../sweep/Pt20Au80_AgBP1_fix_bulk_fraction_hollow_shell_results.csv\")\n",
    "adn.analyze_all(\"Pt20Au80_AgBP1_fix_bulk_fraction_hollow_shell\")"
   ]
  },
  {
   "cell_type": "code",
   "execution_count": 7,
   "metadata": {},
   "outputs": [
    {
     "name": "stderr",
     "output_type": "stream",
     "text": [
      "100%|██████████| 1/1 [00:00<00:00, 96.57it/s]\n",
      "100%|██████████| 1/1 [00:00<00:00, 110.88it/s]\n",
      "100%|██████████| 1/1 [00:00<00:00, 73.49it/s]\n",
      "100%|██████████| 1/1 [00:00<00:00, 205.97it/s]\n",
      "100%|██████████| 1/1 [00:00<00:00, 190.11it/s]\n",
      "100%|██████████| 1/1 [00:00<00:00, 196.05it/s]\n",
      "100%|██████████| 1/1 [00:00<00:00, 139.66it/s]\n",
      "100%|██████████| 1/1 [00:00<00:00, 117.85it/s]\n"
     ]
    },
    {
     "data": {
      "text/plain": [
       "<Figure size 330x250 with 0 Axes>"
      ]
     },
     "metadata": {},
     "output_type": "display_data"
    }
   ],
   "source": [
    "#Plot the histogram of the input data and save to pptx slides\n",
    "adn = Analyze(\"../sweep/Pt20Au80_AgBP1_fix_bulk_fraction_hollow_shell_results.csv\")\n",
    "adn.df = adn.df[adn.df[\"XA\"] > adn.df[\"XAP\"]]\n",
    "adn.analyze_all(\"Pt20Au80_AgBP1_fix_bulk_fraction_hollow_shell_XA>XAP\")"
   ]
  },
  {
   "cell_type": "code",
   "execution_count": 11,
   "metadata": {},
   "outputs": [
    {
     "name": "stderr",
     "output_type": "stream",
     "text": [
      "100%|██████████| 1/1 [00:00<00:00, 79.64it/s]\n",
      "100%|██████████| 1/1 [00:00<00:00, 119.20it/s]\n",
      "100%|██████████| 1/1 [00:00<00:00, 86.27it/s]\n",
      "100%|██████████| 1/1 [00:00<00:00, 199.24it/s]\n",
      "100%|██████████| 1/1 [00:00<00:00, 236.01it/s]\n",
      "100%|██████████| 1/1 [00:00<00:00, 322.69it/s]\n",
      "100%|██████████| 1/1 [00:00<00:00, 176.62it/s]\n",
      "100%|██████████| 1/1 [00:00<00:00, 130.45it/s]\n"
     ]
    },
    {
     "data": {
      "text/plain": [
       "<Figure size 330x250 with 0 Axes>"
      ]
     },
     "metadata": {},
     "output_type": "display_data"
    }
   ],
   "source": [
    "#Plot the histogram of the input data and save to pptx slides\n",
    "adn = Analyze(\"../sweep/Pt40Au60_AgBP1_hollow_shell_TEM_correction_results.csv\")\n",
    "adn.analyze_all(\"Pt40Au60_AgBP1_hollow_shell\")"
   ]
  },
  {
   "cell_type": "code",
   "execution_count": null,
   "metadata": {},
   "outputs": [],
   "source": []
  },
  {
   "cell_type": "code",
   "execution_count": 32,
   "metadata": {},
   "outputs": [
    {
     "ename": "KeyboardInterrupt",
     "evalue": "",
     "output_type": "error",
     "traceback": [
      "\u001b[0;31m---------------------------------------------------------------------------\u001b[0m",
      "\u001b[0;31mKeyboardInterrupt\u001b[0m                         Traceback (most recent call last)",
      "Cell \u001b[0;32mIn[32], line 2\u001b[0m\n\u001b[1;32m      1\u001b[0m adn \u001b[39m=\u001b[39m Analyze(\u001b[39m\"\u001b[39m\u001b[39m../sweep/Pt20Au80_AgBP1_fix_bulk_fraction_hollow_shell_results.csv\u001b[39m\u001b[39m\"\u001b[39m)\n\u001b[0;32m----> 2\u001b[0m adn\u001b[39m.\u001b[39;49manalyze_all(\u001b[39m\"\u001b[39;49m\u001b[39mPt20Au80_AgBP1_fix_bulk_fraction_hollow_shell\u001b[39;49m\u001b[39m\"\u001b[39;49m)\n",
      "Cell \u001b[0;32mIn[29], line 179\u001b[0m, in \u001b[0;36mAnalyze.analyze_all\u001b[0;34m(self, title)\u001b[0m\n\u001b[1;32m    176\u001b[0m     \u001b[39mself\u001b[39m\u001b[39m.\u001b[39mplot_histogram(data, prefix \u001b[39m+\u001b[39m \u001b[39m\"\u001b[39m\u001b[39m/2 Distribution of calculated data\u001b[39m\u001b[39m\"\u001b[39m)\n\u001b[1;32m    178\u001b[0m \u001b[39mfor\u001b[39;00m data \u001b[39min\u001b[39;00m \u001b[39mself\u001b[39m\u001b[39m.\u001b[39msolved_columns:\n\u001b[0;32m--> 179\u001b[0m     \u001b[39mself\u001b[39;49m\u001b[39m.\u001b[39;49mplot_histogram(data, prefix \u001b[39m+\u001b[39;49m \u001b[39m\"\u001b[39;49m\u001b[39m/3 Distribution of solved data\u001b[39;49m\u001b[39m\"\u001b[39;49m)\n\u001b[1;32m    181\u001b[0m \u001b[39mfor\u001b[39;00m data \u001b[39min\u001b[39;00m \u001b[39mself\u001b[39m\u001b[39m.\u001b[39mn_columns:\n\u001b[1;32m    182\u001b[0m     \u001b[39mself\u001b[39m\u001b[39m.\u001b[39mplot_histogram(data, prefix \u001b[39m+\u001b[39m \u001b[39m\"\u001b[39m\u001b[39m/4 Distribution of n (Overall Cordination Number)\u001b[39m\u001b[39m\"\u001b[39m)\n",
      "Cell \u001b[0;32mIn[29], line 149\u001b[0m, in \u001b[0;36mAnalyze.plot_histogram\u001b[0;34m(self, column, path)\u001b[0m\n\u001b[1;32m    147\u001b[0m file \u001b[39m=\u001b[39m os\u001b[39m.\u001b[39mpath\u001b[39m.\u001b[39mjoin(path, column \u001b[39m+\u001b[39m \u001b[39m\"\u001b[39m\u001b[39m \u001b[39m\u001b[39m\"\u001b[39m \u001b[39m+\u001b[39m \u001b[39mself\u001b[39m\u001b[39m.\u001b[39mdf_results[column] \u001b[39m+\u001b[39m \u001b[39m\"\u001b[39m\u001b[39m.png\u001b[39m\u001b[39m\"\u001b[39m)\n\u001b[1;32m    148\u001b[0m os\u001b[39m.\u001b[39mmakedirs(os\u001b[39m.\u001b[39mpath\u001b[39m.\u001b[39mdirname(file), exist_ok\u001b[39m=\u001b[39m\u001b[39mTrue\u001b[39;00m)\n\u001b[0;32m--> 149\u001b[0m plt\u001b[39m.\u001b[39;49msavefig(file, dpi\u001b[39m=\u001b[39;49m\u001b[39m300\u001b[39;49m)\n\u001b[1;32m    150\u001b[0m plt\u001b[39m.\u001b[39mclf()\n",
      "File \u001b[0;32m~/mambaforge/envs/decomnano/lib/python3.11/site-packages/matplotlib/pyplot.py:1023\u001b[0m, in \u001b[0;36msavefig\u001b[0;34m(*args, **kwargs)\u001b[0m\n\u001b[1;32m   1020\u001b[0m \u001b[39m@_copy_docstring_and_deprecators\u001b[39m(Figure\u001b[39m.\u001b[39msavefig)\n\u001b[1;32m   1021\u001b[0m \u001b[39mdef\u001b[39;00m \u001b[39msavefig\u001b[39m(\u001b[39m*\u001b[39margs, \u001b[39m*\u001b[39m\u001b[39m*\u001b[39mkwargs):\n\u001b[1;32m   1022\u001b[0m     fig \u001b[39m=\u001b[39m gcf()\n\u001b[0;32m-> 1023\u001b[0m     res \u001b[39m=\u001b[39m fig\u001b[39m.\u001b[39;49msavefig(\u001b[39m*\u001b[39;49margs, \u001b[39m*\u001b[39;49m\u001b[39m*\u001b[39;49mkwargs)\n\u001b[1;32m   1024\u001b[0m     fig\u001b[39m.\u001b[39mcanvas\u001b[39m.\u001b[39mdraw_idle()  \u001b[39m# Need this if 'transparent=True', to reset colors.\u001b[39;00m\n\u001b[1;32m   1025\u001b[0m     \u001b[39mreturn\u001b[39;00m res\n",
      "File \u001b[0;32m~/mambaforge/envs/decomnano/lib/python3.11/site-packages/matplotlib/figure.py:3343\u001b[0m, in \u001b[0;36mFigure.savefig\u001b[0;34m(self, fname, transparent, **kwargs)\u001b[0m\n\u001b[1;32m   3339\u001b[0m     \u001b[39mfor\u001b[39;00m ax \u001b[39min\u001b[39;00m \u001b[39mself\u001b[39m\u001b[39m.\u001b[39maxes:\n\u001b[1;32m   3340\u001b[0m         stack\u001b[39m.\u001b[39menter_context(\n\u001b[1;32m   3341\u001b[0m             ax\u001b[39m.\u001b[39mpatch\u001b[39m.\u001b[39m_cm_set(facecolor\u001b[39m=\u001b[39m\u001b[39m'\u001b[39m\u001b[39mnone\u001b[39m\u001b[39m'\u001b[39m, edgecolor\u001b[39m=\u001b[39m\u001b[39m'\u001b[39m\u001b[39mnone\u001b[39m\u001b[39m'\u001b[39m))\n\u001b[0;32m-> 3343\u001b[0m \u001b[39mself\u001b[39;49m\u001b[39m.\u001b[39;49mcanvas\u001b[39m.\u001b[39;49mprint_figure(fname, \u001b[39m*\u001b[39;49m\u001b[39m*\u001b[39;49mkwargs)\n",
      "File \u001b[0;32m~/mambaforge/envs/decomnano/lib/python3.11/site-packages/matplotlib/backend_bases.py:2366\u001b[0m, in \u001b[0;36mFigureCanvasBase.print_figure\u001b[0;34m(self, filename, dpi, facecolor, edgecolor, orientation, format, bbox_inches, pad_inches, bbox_extra_artists, backend, **kwargs)\u001b[0m\n\u001b[1;32m   2362\u001b[0m \u001b[39mtry\u001b[39;00m:\n\u001b[1;32m   2363\u001b[0m     \u001b[39m# _get_renderer may change the figure dpi (as vector formats\u001b[39;00m\n\u001b[1;32m   2364\u001b[0m     \u001b[39m# force the figure dpi to 72), so we need to set it again here.\u001b[39;00m\n\u001b[1;32m   2365\u001b[0m     \u001b[39mwith\u001b[39;00m cbook\u001b[39m.\u001b[39m_setattr_cm(\u001b[39mself\u001b[39m\u001b[39m.\u001b[39mfigure, dpi\u001b[39m=\u001b[39mdpi):\n\u001b[0;32m-> 2366\u001b[0m         result \u001b[39m=\u001b[39m print_method(\n\u001b[1;32m   2367\u001b[0m             filename,\n\u001b[1;32m   2368\u001b[0m             facecolor\u001b[39m=\u001b[39;49mfacecolor,\n\u001b[1;32m   2369\u001b[0m             edgecolor\u001b[39m=\u001b[39;49medgecolor,\n\u001b[1;32m   2370\u001b[0m             orientation\u001b[39m=\u001b[39;49morientation,\n\u001b[1;32m   2371\u001b[0m             bbox_inches_restore\u001b[39m=\u001b[39;49m_bbox_inches_restore,\n\u001b[1;32m   2372\u001b[0m             \u001b[39m*\u001b[39;49m\u001b[39m*\u001b[39;49mkwargs)\n\u001b[1;32m   2373\u001b[0m \u001b[39mfinally\u001b[39;00m:\n\u001b[1;32m   2374\u001b[0m     \u001b[39mif\u001b[39;00m bbox_inches \u001b[39mand\u001b[39;00m restore_bbox:\n",
      "File \u001b[0;32m~/mambaforge/envs/decomnano/lib/python3.11/site-packages/matplotlib/backend_bases.py:2232\u001b[0m, in \u001b[0;36mFigureCanvasBase._switch_canvas_and_return_print_method.<locals>.<lambda>\u001b[0;34m(*args, **kwargs)\u001b[0m\n\u001b[1;32m   2228\u001b[0m     optional_kws \u001b[39m=\u001b[39m {  \u001b[39m# Passed by print_figure for other renderers.\u001b[39;00m\n\u001b[1;32m   2229\u001b[0m         \u001b[39m\"\u001b[39m\u001b[39mdpi\u001b[39m\u001b[39m\"\u001b[39m, \u001b[39m\"\u001b[39m\u001b[39mfacecolor\u001b[39m\u001b[39m\"\u001b[39m, \u001b[39m\"\u001b[39m\u001b[39medgecolor\u001b[39m\u001b[39m\"\u001b[39m, \u001b[39m\"\u001b[39m\u001b[39morientation\u001b[39m\u001b[39m\"\u001b[39m,\n\u001b[1;32m   2230\u001b[0m         \u001b[39m\"\u001b[39m\u001b[39mbbox_inches_restore\u001b[39m\u001b[39m\"\u001b[39m}\n\u001b[1;32m   2231\u001b[0m     skip \u001b[39m=\u001b[39m optional_kws \u001b[39m-\u001b[39m {\u001b[39m*\u001b[39minspect\u001b[39m.\u001b[39msignature(meth)\u001b[39m.\u001b[39mparameters}\n\u001b[0;32m-> 2232\u001b[0m     print_method \u001b[39m=\u001b[39m functools\u001b[39m.\u001b[39mwraps(meth)(\u001b[39mlambda\u001b[39;00m \u001b[39m*\u001b[39margs, \u001b[39m*\u001b[39m\u001b[39m*\u001b[39mkwargs: meth(\n\u001b[1;32m   2233\u001b[0m         \u001b[39m*\u001b[39;49margs, \u001b[39m*\u001b[39;49m\u001b[39m*\u001b[39;49m{k: v \u001b[39mfor\u001b[39;49;00m k, v \u001b[39min\u001b[39;49;00m kwargs\u001b[39m.\u001b[39;49mitems() \u001b[39mif\u001b[39;49;00m k \u001b[39mnot\u001b[39;49;00m \u001b[39min\u001b[39;49;00m skip}))\n\u001b[1;32m   2234\u001b[0m \u001b[39melse\u001b[39;00m:  \u001b[39m# Let third-parties do as they see fit.\u001b[39;00m\n\u001b[1;32m   2235\u001b[0m     print_method \u001b[39m=\u001b[39m meth\n",
      "File \u001b[0;32m~/mambaforge/envs/decomnano/lib/python3.11/site-packages/matplotlib/backends/backend_agg.py:509\u001b[0m, in \u001b[0;36mFigureCanvasAgg.print_png\u001b[0;34m(self, filename_or_obj, metadata, pil_kwargs)\u001b[0m\n\u001b[1;32m    462\u001b[0m \u001b[39mdef\u001b[39;00m \u001b[39mprint_png\u001b[39m(\u001b[39mself\u001b[39m, filename_or_obj, \u001b[39m*\u001b[39m, metadata\u001b[39m=\u001b[39m\u001b[39mNone\u001b[39;00m, pil_kwargs\u001b[39m=\u001b[39m\u001b[39mNone\u001b[39;00m):\n\u001b[1;32m    463\u001b[0m \u001b[39m    \u001b[39m\u001b[39m\"\"\"\u001b[39;00m\n\u001b[1;32m    464\u001b[0m \u001b[39m    Write the figure to a PNG file.\u001b[39;00m\n\u001b[1;32m    465\u001b[0m \n\u001b[0;32m   (...)\u001b[0m\n\u001b[1;32m    507\u001b[0m \u001b[39m        *metadata*, including the default 'Software' key.\u001b[39;00m\n\u001b[1;32m    508\u001b[0m \u001b[39m    \"\"\"\u001b[39;00m\n\u001b[0;32m--> 509\u001b[0m     \u001b[39mself\u001b[39;49m\u001b[39m.\u001b[39;49m_print_pil(filename_or_obj, \u001b[39m\"\u001b[39;49m\u001b[39mpng\u001b[39;49m\u001b[39m\"\u001b[39;49m, pil_kwargs, metadata)\n",
      "File \u001b[0;32m~/mambaforge/envs/decomnano/lib/python3.11/site-packages/matplotlib/backends/backend_agg.py:457\u001b[0m, in \u001b[0;36mFigureCanvasAgg._print_pil\u001b[0;34m(self, filename_or_obj, fmt, pil_kwargs, metadata)\u001b[0m\n\u001b[1;32m    452\u001b[0m \u001b[39mdef\u001b[39;00m \u001b[39m_print_pil\u001b[39m(\u001b[39mself\u001b[39m, filename_or_obj, fmt, pil_kwargs, metadata\u001b[39m=\u001b[39m\u001b[39mNone\u001b[39;00m):\n\u001b[1;32m    453\u001b[0m \u001b[39m    \u001b[39m\u001b[39m\"\"\"\u001b[39;00m\n\u001b[1;32m    454\u001b[0m \u001b[39m    Draw the canvas, then save it using `.image.imsave` (to which\u001b[39;00m\n\u001b[1;32m    455\u001b[0m \u001b[39m    *pil_kwargs* and *metadata* are forwarded).\u001b[39;00m\n\u001b[1;32m    456\u001b[0m \u001b[39m    \"\"\"\u001b[39;00m\n\u001b[0;32m--> 457\u001b[0m     FigureCanvasAgg\u001b[39m.\u001b[39;49mdraw(\u001b[39mself\u001b[39;49m)\n\u001b[1;32m    458\u001b[0m     mpl\u001b[39m.\u001b[39mimage\u001b[39m.\u001b[39mimsave(\n\u001b[1;32m    459\u001b[0m         filename_or_obj, \u001b[39mself\u001b[39m\u001b[39m.\u001b[39mbuffer_rgba(), \u001b[39mformat\u001b[39m\u001b[39m=\u001b[39mfmt, origin\u001b[39m=\u001b[39m\u001b[39m\"\u001b[39m\u001b[39mupper\u001b[39m\u001b[39m\"\u001b[39m,\n\u001b[1;32m    460\u001b[0m         dpi\u001b[39m=\u001b[39m\u001b[39mself\u001b[39m\u001b[39m.\u001b[39mfigure\u001b[39m.\u001b[39mdpi, metadata\u001b[39m=\u001b[39mmetadata, pil_kwargs\u001b[39m=\u001b[39mpil_kwargs)\n",
      "File \u001b[0;32m~/mambaforge/envs/decomnano/lib/python3.11/site-packages/matplotlib/backends/backend_agg.py:400\u001b[0m, in \u001b[0;36mFigureCanvasAgg.draw\u001b[0;34m(self)\u001b[0m\n\u001b[1;32m    396\u001b[0m \u001b[39m# Acquire a lock on the shared font cache.\u001b[39;00m\n\u001b[1;32m    397\u001b[0m \u001b[39mwith\u001b[39;00m RendererAgg\u001b[39m.\u001b[39mlock, \\\n\u001b[1;32m    398\u001b[0m      (\u001b[39mself\u001b[39m\u001b[39m.\u001b[39mtoolbar\u001b[39m.\u001b[39m_wait_cursor_for_draw_cm() \u001b[39mif\u001b[39;00m \u001b[39mself\u001b[39m\u001b[39m.\u001b[39mtoolbar\n\u001b[1;32m    399\u001b[0m       \u001b[39melse\u001b[39;00m nullcontext()):\n\u001b[0;32m--> 400\u001b[0m     \u001b[39mself\u001b[39;49m\u001b[39m.\u001b[39;49mfigure\u001b[39m.\u001b[39;49mdraw(\u001b[39mself\u001b[39;49m\u001b[39m.\u001b[39;49mrenderer)\n\u001b[1;32m    401\u001b[0m     \u001b[39m# A GUI class may be need to update a window using this draw, so\u001b[39;00m\n\u001b[1;32m    402\u001b[0m     \u001b[39m# don't forget to call the superclass.\u001b[39;00m\n\u001b[1;32m    403\u001b[0m     \u001b[39msuper\u001b[39m()\u001b[39m.\u001b[39mdraw()\n",
      "File \u001b[0;32m~/mambaforge/envs/decomnano/lib/python3.11/site-packages/matplotlib/artist.py:95\u001b[0m, in \u001b[0;36m_finalize_rasterization.<locals>.draw_wrapper\u001b[0;34m(artist, renderer, *args, **kwargs)\u001b[0m\n\u001b[1;32m     93\u001b[0m \u001b[39m@wraps\u001b[39m(draw)\n\u001b[1;32m     94\u001b[0m \u001b[39mdef\u001b[39;00m \u001b[39mdraw_wrapper\u001b[39m(artist, renderer, \u001b[39m*\u001b[39margs, \u001b[39m*\u001b[39m\u001b[39m*\u001b[39mkwargs):\n\u001b[0;32m---> 95\u001b[0m     result \u001b[39m=\u001b[39m draw(artist, renderer, \u001b[39m*\u001b[39;49margs, \u001b[39m*\u001b[39;49m\u001b[39m*\u001b[39;49mkwargs)\n\u001b[1;32m     96\u001b[0m     \u001b[39mif\u001b[39;00m renderer\u001b[39m.\u001b[39m_rasterizing:\n\u001b[1;32m     97\u001b[0m         renderer\u001b[39m.\u001b[39mstop_rasterizing()\n",
      "File \u001b[0;32m~/mambaforge/envs/decomnano/lib/python3.11/site-packages/matplotlib/artist.py:72\u001b[0m, in \u001b[0;36mallow_rasterization.<locals>.draw_wrapper\u001b[0;34m(artist, renderer)\u001b[0m\n\u001b[1;32m     69\u001b[0m     \u001b[39mif\u001b[39;00m artist\u001b[39m.\u001b[39mget_agg_filter() \u001b[39mis\u001b[39;00m \u001b[39mnot\u001b[39;00m \u001b[39mNone\u001b[39;00m:\n\u001b[1;32m     70\u001b[0m         renderer\u001b[39m.\u001b[39mstart_filter()\n\u001b[0;32m---> 72\u001b[0m     \u001b[39mreturn\u001b[39;00m draw(artist, renderer)\n\u001b[1;32m     73\u001b[0m \u001b[39mfinally\u001b[39;00m:\n\u001b[1;32m     74\u001b[0m     \u001b[39mif\u001b[39;00m artist\u001b[39m.\u001b[39mget_agg_filter() \u001b[39mis\u001b[39;00m \u001b[39mnot\u001b[39;00m \u001b[39mNone\u001b[39;00m:\n",
      "File \u001b[0;32m~/mambaforge/envs/decomnano/lib/python3.11/site-packages/matplotlib/figure.py:3140\u001b[0m, in \u001b[0;36mFigure.draw\u001b[0;34m(self, renderer)\u001b[0m\n\u001b[1;32m   3137\u001b[0m         \u001b[39m# ValueError can occur when resizing a window.\u001b[39;00m\n\u001b[1;32m   3139\u001b[0m \u001b[39mself\u001b[39m\u001b[39m.\u001b[39mpatch\u001b[39m.\u001b[39mdraw(renderer)\n\u001b[0;32m-> 3140\u001b[0m mimage\u001b[39m.\u001b[39;49m_draw_list_compositing_images(\n\u001b[1;32m   3141\u001b[0m     renderer, \u001b[39mself\u001b[39;49m, artists, \u001b[39mself\u001b[39;49m\u001b[39m.\u001b[39;49msuppressComposite)\n\u001b[1;32m   3143\u001b[0m \u001b[39mfor\u001b[39;00m sfig \u001b[39min\u001b[39;00m \u001b[39mself\u001b[39m\u001b[39m.\u001b[39msubfigs:\n\u001b[1;32m   3144\u001b[0m     sfig\u001b[39m.\u001b[39mdraw(renderer)\n",
      "File \u001b[0;32m~/mambaforge/envs/decomnano/lib/python3.11/site-packages/matplotlib/image.py:131\u001b[0m, in \u001b[0;36m_draw_list_compositing_images\u001b[0;34m(renderer, parent, artists, suppress_composite)\u001b[0m\n\u001b[1;32m    129\u001b[0m \u001b[39mif\u001b[39;00m not_composite \u001b[39mor\u001b[39;00m \u001b[39mnot\u001b[39;00m has_images:\n\u001b[1;32m    130\u001b[0m     \u001b[39mfor\u001b[39;00m a \u001b[39min\u001b[39;00m artists:\n\u001b[0;32m--> 131\u001b[0m         a\u001b[39m.\u001b[39;49mdraw(renderer)\n\u001b[1;32m    132\u001b[0m \u001b[39melse\u001b[39;00m:\n\u001b[1;32m    133\u001b[0m     \u001b[39m# Composite any adjacent images together\u001b[39;00m\n\u001b[1;32m    134\u001b[0m     image_group \u001b[39m=\u001b[39m []\n",
      "File \u001b[0;32m~/mambaforge/envs/decomnano/lib/python3.11/site-packages/matplotlib/artist.py:72\u001b[0m, in \u001b[0;36mallow_rasterization.<locals>.draw_wrapper\u001b[0;34m(artist, renderer)\u001b[0m\n\u001b[1;32m     69\u001b[0m     \u001b[39mif\u001b[39;00m artist\u001b[39m.\u001b[39mget_agg_filter() \u001b[39mis\u001b[39;00m \u001b[39mnot\u001b[39;00m \u001b[39mNone\u001b[39;00m:\n\u001b[1;32m     70\u001b[0m         renderer\u001b[39m.\u001b[39mstart_filter()\n\u001b[0;32m---> 72\u001b[0m     \u001b[39mreturn\u001b[39;00m draw(artist, renderer)\n\u001b[1;32m     73\u001b[0m \u001b[39mfinally\u001b[39;00m:\n\u001b[1;32m     74\u001b[0m     \u001b[39mif\u001b[39;00m artist\u001b[39m.\u001b[39mget_agg_filter() \u001b[39mis\u001b[39;00m \u001b[39mnot\u001b[39;00m \u001b[39mNone\u001b[39;00m:\n",
      "File \u001b[0;32m~/mambaforge/envs/decomnano/lib/python3.11/site-packages/matplotlib/axes/_base.py:3064\u001b[0m, in \u001b[0;36m_AxesBase.draw\u001b[0;34m(self, renderer)\u001b[0m\n\u001b[1;32m   3061\u001b[0m \u001b[39mif\u001b[39;00m artists_rasterized:\n\u001b[1;32m   3062\u001b[0m     _draw_rasterized(\u001b[39mself\u001b[39m\u001b[39m.\u001b[39mfigure, artists_rasterized, renderer)\n\u001b[0;32m-> 3064\u001b[0m mimage\u001b[39m.\u001b[39;49m_draw_list_compositing_images(\n\u001b[1;32m   3065\u001b[0m     renderer, \u001b[39mself\u001b[39;49m, artists, \u001b[39mself\u001b[39;49m\u001b[39m.\u001b[39;49mfigure\u001b[39m.\u001b[39;49msuppressComposite)\n\u001b[1;32m   3067\u001b[0m renderer\u001b[39m.\u001b[39mclose_group(\u001b[39m'\u001b[39m\u001b[39maxes\u001b[39m\u001b[39m'\u001b[39m)\n\u001b[1;32m   3068\u001b[0m \u001b[39mself\u001b[39m\u001b[39m.\u001b[39mstale \u001b[39m=\u001b[39m \u001b[39mFalse\u001b[39;00m\n",
      "File \u001b[0;32m~/mambaforge/envs/decomnano/lib/python3.11/site-packages/matplotlib/image.py:131\u001b[0m, in \u001b[0;36m_draw_list_compositing_images\u001b[0;34m(renderer, parent, artists, suppress_composite)\u001b[0m\n\u001b[1;32m    129\u001b[0m \u001b[39mif\u001b[39;00m not_composite \u001b[39mor\u001b[39;00m \u001b[39mnot\u001b[39;00m has_images:\n\u001b[1;32m    130\u001b[0m     \u001b[39mfor\u001b[39;00m a \u001b[39min\u001b[39;00m artists:\n\u001b[0;32m--> 131\u001b[0m         a\u001b[39m.\u001b[39;49mdraw(renderer)\n\u001b[1;32m    132\u001b[0m \u001b[39melse\u001b[39;00m:\n\u001b[1;32m    133\u001b[0m     \u001b[39m# Composite any adjacent images together\u001b[39;00m\n\u001b[1;32m    134\u001b[0m     image_group \u001b[39m=\u001b[39m []\n",
      "File \u001b[0;32m~/mambaforge/envs/decomnano/lib/python3.11/site-packages/matplotlib/artist.py:72\u001b[0m, in \u001b[0;36mallow_rasterization.<locals>.draw_wrapper\u001b[0;34m(artist, renderer)\u001b[0m\n\u001b[1;32m     69\u001b[0m     \u001b[39mif\u001b[39;00m artist\u001b[39m.\u001b[39mget_agg_filter() \u001b[39mis\u001b[39;00m \u001b[39mnot\u001b[39;00m \u001b[39mNone\u001b[39;00m:\n\u001b[1;32m     70\u001b[0m         renderer\u001b[39m.\u001b[39mstart_filter()\n\u001b[0;32m---> 72\u001b[0m     \u001b[39mreturn\u001b[39;00m draw(artist, renderer)\n\u001b[1;32m     73\u001b[0m \u001b[39mfinally\u001b[39;00m:\n\u001b[1;32m     74\u001b[0m     \u001b[39mif\u001b[39;00m artist\u001b[39m.\u001b[39mget_agg_filter() \u001b[39mis\u001b[39;00m \u001b[39mnot\u001b[39;00m \u001b[39mNone\u001b[39;00m:\n",
      "File \u001b[0;32m~/mambaforge/envs/decomnano/lib/python3.11/site-packages/matplotlib/axis.py:1386\u001b[0m, in \u001b[0;36mAxis.draw\u001b[0;34m(self, renderer, *args, **kwargs)\u001b[0m\n\u001b[1;32m   1383\u001b[0m \u001b[39mself\u001b[39m\u001b[39m.\u001b[39m_update_label_position(renderer)\n\u001b[1;32m   1384\u001b[0m \u001b[39mself\u001b[39m\u001b[39m.\u001b[39mlabel\u001b[39m.\u001b[39mdraw(renderer)\n\u001b[0;32m-> 1386\u001b[0m \u001b[39mself\u001b[39;49m\u001b[39m.\u001b[39;49m_update_offset_text_position(tlb1, tlb2)\n\u001b[1;32m   1387\u001b[0m \u001b[39mself\u001b[39m\u001b[39m.\u001b[39moffsetText\u001b[39m.\u001b[39mset_text(\u001b[39mself\u001b[39m\u001b[39m.\u001b[39mmajor\u001b[39m.\u001b[39mformatter\u001b[39m.\u001b[39mget_offset())\n\u001b[1;32m   1388\u001b[0m \u001b[39mself\u001b[39m\u001b[39m.\u001b[39moffsetText\u001b[39m.\u001b[39mdraw(renderer)\n",
      "File \u001b[0;32m~/mambaforge/envs/decomnano/lib/python3.11/site-packages/matplotlib/axis.py:2346\u001b[0m, in \u001b[0;36mXAxis._update_offset_text_position\u001b[0;34m(self, bboxes, bboxes2)\u001b[0m\n\u001b[1;32m   2344\u001b[0m     bottom \u001b[39m=\u001b[39m \u001b[39mself\u001b[39m\u001b[39m.\u001b[39maxes\u001b[39m.\u001b[39mbbox\u001b[39m.\u001b[39mymin\n\u001b[1;32m   2345\u001b[0m \u001b[39melse\u001b[39;00m:\n\u001b[0;32m-> 2346\u001b[0m     bbox \u001b[39m=\u001b[39m mtransforms\u001b[39m.\u001b[39;49mBbox\u001b[39m.\u001b[39;49munion(bboxes)\n\u001b[1;32m   2347\u001b[0m     bottom \u001b[39m=\u001b[39m bbox\u001b[39m.\u001b[39my0\n\u001b[1;32m   2348\u001b[0m y \u001b[39m=\u001b[39m bottom \u001b[39m-\u001b[39m \u001b[39mself\u001b[39m\u001b[39m.\u001b[39mOFFSETTEXTPAD \u001b[39m*\u001b[39m \u001b[39mself\u001b[39m\u001b[39m.\u001b[39mfigure\u001b[39m.\u001b[39mdpi \u001b[39m/\u001b[39m \u001b[39m72\u001b[39m\n",
      "File \u001b[0;32m~/mambaforge/envs/decomnano/lib/python3.11/site-packages/matplotlib/transforms.py:655\u001b[0m, in \u001b[0;36mBboxBase.union\u001b[0;34m(bboxes)\u001b[0m\n\u001b[1;32m    653\u001b[0m     \u001b[39mraise\u001b[39;00m \u001b[39mValueError\u001b[39;00m(\u001b[39m\"\u001b[39m\u001b[39m'\u001b[39m\u001b[39mbboxes\u001b[39m\u001b[39m'\u001b[39m\u001b[39m cannot be empty\u001b[39m\u001b[39m\"\u001b[39m)\n\u001b[1;32m    654\u001b[0m x0 \u001b[39m=\u001b[39m np\u001b[39m.\u001b[39mmin([bbox\u001b[39m.\u001b[39mxmin \u001b[39mfor\u001b[39;00m bbox \u001b[39min\u001b[39;00m bboxes])\n\u001b[0;32m--> 655\u001b[0m x1 \u001b[39m=\u001b[39m np\u001b[39m.\u001b[39mmax([bbox\u001b[39m.\u001b[39;49mxmax \u001b[39mfor\u001b[39;49;00m bbox \u001b[39min\u001b[39;49;00m bboxes])\n\u001b[1;32m    656\u001b[0m y0 \u001b[39m=\u001b[39m np\u001b[39m.\u001b[39mmin([bbox\u001b[39m.\u001b[39mymin \u001b[39mfor\u001b[39;00m bbox \u001b[39min\u001b[39;00m bboxes])\n\u001b[1;32m    657\u001b[0m y1 \u001b[39m=\u001b[39m np\u001b[39m.\u001b[39mmax([bbox\u001b[39m.\u001b[39mymax \u001b[39mfor\u001b[39;00m bbox \u001b[39min\u001b[39;00m bboxes])\n",
      "File \u001b[0;32m~/mambaforge/envs/decomnano/lib/python3.11/site-packages/matplotlib/transforms.py:655\u001b[0m, in \u001b[0;36m<listcomp>\u001b[0;34m(.0)\u001b[0m\n\u001b[1;32m    653\u001b[0m     \u001b[39mraise\u001b[39;00m \u001b[39mValueError\u001b[39;00m(\u001b[39m\"\u001b[39m\u001b[39m'\u001b[39m\u001b[39mbboxes\u001b[39m\u001b[39m'\u001b[39m\u001b[39m cannot be empty\u001b[39m\u001b[39m\"\u001b[39m)\n\u001b[1;32m    654\u001b[0m x0 \u001b[39m=\u001b[39m np\u001b[39m.\u001b[39mmin([bbox\u001b[39m.\u001b[39mxmin \u001b[39mfor\u001b[39;00m bbox \u001b[39min\u001b[39;00m bboxes])\n\u001b[0;32m--> 655\u001b[0m x1 \u001b[39m=\u001b[39m np\u001b[39m.\u001b[39mmax([bbox\u001b[39m.\u001b[39;49mxmax \u001b[39mfor\u001b[39;00m bbox \u001b[39min\u001b[39;00m bboxes])\n\u001b[1;32m    656\u001b[0m y0 \u001b[39m=\u001b[39m np\u001b[39m.\u001b[39mmin([bbox\u001b[39m.\u001b[39mymin \u001b[39mfor\u001b[39;00m bbox \u001b[39min\u001b[39;00m bboxes])\n\u001b[1;32m    657\u001b[0m y1 \u001b[39m=\u001b[39m np\u001b[39m.\u001b[39mmax([bbox\u001b[39m.\u001b[39mymax \u001b[39mfor\u001b[39;00m bbox \u001b[39min\u001b[39;00m bboxes])\n",
      "File \u001b[0;32m~/mambaforge/envs/decomnano/lib/python3.11/site-packages/matplotlib/transforms.py:326\u001b[0m, in \u001b[0;36mBboxBase.xmax\u001b[0;34m(self)\u001b[0m\n\u001b[1;32m    323\u001b[0m \u001b[39m@property\u001b[39m\n\u001b[1;32m    324\u001b[0m \u001b[39mdef\u001b[39;00m \u001b[39mxmax\u001b[39m(\u001b[39mself\u001b[39m):\n\u001b[1;32m    325\u001b[0m \u001b[39m    \u001b[39m\u001b[39m\"\"\"The right edge of the bounding box.\"\"\"\u001b[39;00m\n\u001b[0;32m--> 326\u001b[0m     \u001b[39mreturn\u001b[39;00m np\u001b[39m.\u001b[39;49mmax(\u001b[39mself\u001b[39;49m\u001b[39m.\u001b[39;49mget_points()[:, \u001b[39m0\u001b[39;49m])\n",
      "File \u001b[0;32m<__array_function__ internals>:200\u001b[0m, in \u001b[0;36mamax\u001b[0;34m(*args, **kwargs)\u001b[0m\n",
      "File \u001b[0;32m~/mambaforge/envs/decomnano/lib/python3.11/site-packages/numpy/core/fromnumeric.py:2820\u001b[0m, in \u001b[0;36mamax\u001b[0;34m(a, axis, out, keepdims, initial, where)\u001b[0m\n\u001b[1;32m   2703\u001b[0m \u001b[39m@array_function_dispatch\u001b[39m(_amax_dispatcher)\n\u001b[1;32m   2704\u001b[0m \u001b[39mdef\u001b[39;00m \u001b[39mamax\u001b[39m(a, axis\u001b[39m=\u001b[39m\u001b[39mNone\u001b[39;00m, out\u001b[39m=\u001b[39m\u001b[39mNone\u001b[39;00m, keepdims\u001b[39m=\u001b[39mnp\u001b[39m.\u001b[39m_NoValue, initial\u001b[39m=\u001b[39mnp\u001b[39m.\u001b[39m_NoValue,\n\u001b[1;32m   2705\u001b[0m          where\u001b[39m=\u001b[39mnp\u001b[39m.\u001b[39m_NoValue):\n\u001b[1;32m   2706\u001b[0m \u001b[39m    \u001b[39m\u001b[39m\"\"\"\u001b[39;00m\n\u001b[1;32m   2707\u001b[0m \u001b[39m    Return the maximum of an array or maximum along an axis.\u001b[39;00m\n\u001b[1;32m   2708\u001b[0m \n\u001b[0;32m   (...)\u001b[0m\n\u001b[1;32m   2818\u001b[0m \u001b[39m    5\u001b[39;00m\n\u001b[1;32m   2819\u001b[0m \u001b[39m    \"\"\"\u001b[39;00m\n\u001b[0;32m-> 2820\u001b[0m     \u001b[39mreturn\u001b[39;00m _wrapreduction(a, np\u001b[39m.\u001b[39;49mmaximum, \u001b[39m'\u001b[39;49m\u001b[39mmax\u001b[39;49m\u001b[39m'\u001b[39;49m, axis, \u001b[39mNone\u001b[39;49;00m, out,\n\u001b[1;32m   2821\u001b[0m                           keepdims\u001b[39m=\u001b[39;49mkeepdims, initial\u001b[39m=\u001b[39;49minitial, where\u001b[39m=\u001b[39;49mwhere)\n",
      "File \u001b[0;32m~/mambaforge/envs/decomnano/lib/python3.11/site-packages/numpy/core/fromnumeric.py:86\u001b[0m, in \u001b[0;36m_wrapreduction\u001b[0;34m(obj, ufunc, method, axis, dtype, out, **kwargs)\u001b[0m\n\u001b[1;32m     83\u001b[0m         \u001b[39melse\u001b[39;00m:\n\u001b[1;32m     84\u001b[0m             \u001b[39mreturn\u001b[39;00m reduction(axis\u001b[39m=\u001b[39maxis, out\u001b[39m=\u001b[39mout, \u001b[39m*\u001b[39m\u001b[39m*\u001b[39mpasskwargs)\n\u001b[0;32m---> 86\u001b[0m \u001b[39mreturn\u001b[39;00m ufunc\u001b[39m.\u001b[39;49mreduce(obj, axis, dtype, out, \u001b[39m*\u001b[39;49m\u001b[39m*\u001b[39;49mpasskwargs)\n",
      "\u001b[0;31mKeyboardInterrupt\u001b[0m: "
     ]
    },
    {
     "data": {
      "image/png": "[encoded data removed]",
      "text/plain": [
       "<Figure size 330x250 with 1 Axes>"
      ]
     },
     "metadata": {},
     "output_type": "display_data"
    }
   ],
   "source": [
    "adn = Analyze(\"../sweep/Pt20Au80_AgBP1_fix_bulk_fraction_hollow_shell_results.csv\")\n",
    "adn.analyze_all(\"Pt20Au80_AgBP1_fix_bulk_fraction_hollow_shell\")"
   ]
  },
  {
   "cell_type": "code",
   "execution_count": null,
   "metadata": {},
   "outputs": [],
   "source": []
  },
  {
   "cell_type": "code",
   "execution_count": 8,
   "metadata": {},
   "outputs": [
    {
     "ename": "FileNotFoundError",
     "evalue": "[Errno 2] No such file or directory: '../sweep/Pt40Au60_AgBP1_fix_bulk_fraction_hollow_shell_results.csv'",
     "output_type": "error",
     "traceback": [
      "\u001b[0;31m---------------------------------------------------------------------------\u001b[0m",
      "\u001b[0;31mFileNotFoundError\u001b[0m                         Traceback (most recent call last)",
      "Cell \u001b[0;32mIn[8], line 1\u001b[0m\n\u001b[0;32m----> 1\u001b[0m adn \u001b[39m=\u001b[39m Analyze(\u001b[39m\"\u001b[39;49m\u001b[39m../sweep/Pt40Au60_AgBP1_fix_bulk_fraction_hollow_shell_results.csv\u001b[39;49m\u001b[39m\"\u001b[39;49m)\n\u001b[1;32m      2\u001b[0m adn\u001b[39m.\u001b[39manalyze_all(\u001b[39m\"\u001b[39m\u001b[39mPt40Au60_AgBP1_fix_bulk_fraction_hollow_shell\u001b[39m\u001b[39m\"\u001b[39m)\n",
      "Cell \u001b[0;32mIn[4], line 23\u001b[0m, in \u001b[0;36mAnalyze.__init__\u001b[0;34m(self, path)\u001b[0m\n\u001b[1;32m     20\u001b[0m \u001b[39mself\u001b[39m\u001b[39m.\u001b[39mdf \u001b[39m=\u001b[39m pd\u001b[39m.\u001b[39mDataFrame()\n\u001b[1;32m     22\u001b[0m \u001b[39mif\u001b[39;00m path \u001b[39mis\u001b[39;00m \u001b[39mnot\u001b[39;00m \u001b[39mNone\u001b[39;00m:\n\u001b[0;32m---> 23\u001b[0m     \u001b[39mself\u001b[39;49m\u001b[39m.\u001b[39;49minit_df(path)\n",
      "Cell \u001b[0;32mIn[4], line 26\u001b[0m, in \u001b[0;36mAnalyze.init_df\u001b[0;34m(self, path)\u001b[0m\n\u001b[1;32m     25\u001b[0m \u001b[39mdef\u001b[39;00m \u001b[39minit_df\u001b[39m(\u001b[39mself\u001b[39m, path):\n\u001b[0;32m---> 26\u001b[0m     \u001b[39mself\u001b[39m\u001b[39m.\u001b[39mdf \u001b[39m=\u001b[39m pd\u001b[39m.\u001b[39;49mread_csv(path)\n",
      "File \u001b[0;32m~/mambaforge/envs/decomnano/lib/python3.11/site-packages/pandas/io/parsers/readers.py:912\u001b[0m, in \u001b[0;36mread_csv\u001b[0;34m(filepath_or_buffer, sep, delimiter, header, names, index_col, usecols, dtype, engine, converters, true_values, false_values, skipinitialspace, skiprows, skipfooter, nrows, na_values, keep_default_na, na_filter, verbose, skip_blank_lines, parse_dates, infer_datetime_format, keep_date_col, date_parser, date_format, dayfirst, cache_dates, iterator, chunksize, compression, thousands, decimal, lineterminator, quotechar, quoting, doublequote, escapechar, comment, encoding, encoding_errors, dialect, on_bad_lines, delim_whitespace, low_memory, memory_map, float_precision, storage_options, dtype_backend)\u001b[0m\n\u001b[1;32m    899\u001b[0m kwds_defaults \u001b[39m=\u001b[39m _refine_defaults_read(\n\u001b[1;32m    900\u001b[0m     dialect,\n\u001b[1;32m    901\u001b[0m     delimiter,\n\u001b[0;32m   (...)\u001b[0m\n\u001b[1;32m    908\u001b[0m     dtype_backend\u001b[39m=\u001b[39mdtype_backend,\n\u001b[1;32m    909\u001b[0m )\n\u001b[1;32m    910\u001b[0m kwds\u001b[39m.\u001b[39mupdate(kwds_defaults)\n\u001b[0;32m--> 912\u001b[0m \u001b[39mreturn\u001b[39;00m _read(filepath_or_buffer, kwds)\n",
      "File \u001b[0;32m~/mambaforge/envs/decomnano/lib/python3.11/site-packages/pandas/io/parsers/readers.py:577\u001b[0m, in \u001b[0;36m_read\u001b[0;34m(filepath_or_buffer, kwds)\u001b[0m\n\u001b[1;32m    574\u001b[0m _validate_names(kwds\u001b[39m.\u001b[39mget(\u001b[39m\"\u001b[39m\u001b[39mnames\u001b[39m\u001b[39m\"\u001b[39m, \u001b[39mNone\u001b[39;00m))\n\u001b[1;32m    576\u001b[0m \u001b[39m# Create the parser.\u001b[39;00m\n\u001b[0;32m--> 577\u001b[0m parser \u001b[39m=\u001b[39m TextFileReader(filepath_or_buffer, \u001b[39m*\u001b[39;49m\u001b[39m*\u001b[39;49mkwds)\n\u001b[1;32m    579\u001b[0m \u001b[39mif\u001b[39;00m chunksize \u001b[39mor\u001b[39;00m iterator:\n\u001b[1;32m    580\u001b[0m     \u001b[39mreturn\u001b[39;00m parser\n",
      "File \u001b[0;32m~/mambaforge/envs/decomnano/lib/python3.11/site-packages/pandas/io/parsers/readers.py:1407\u001b[0m, in \u001b[0;36mTextFileReader.__init__\u001b[0;34m(self, f, engine, **kwds)\u001b[0m\n\u001b[1;32m   1404\u001b[0m     \u001b[39mself\u001b[39m\u001b[39m.\u001b[39moptions[\u001b[39m\"\u001b[39m\u001b[39mhas_index_names\u001b[39m\u001b[39m\"\u001b[39m] \u001b[39m=\u001b[39m kwds[\u001b[39m\"\u001b[39m\u001b[39mhas_index_names\u001b[39m\u001b[39m\"\u001b[39m]\n\u001b[1;32m   1406\u001b[0m \u001b[39mself\u001b[39m\u001b[39m.\u001b[39mhandles: IOHandles \u001b[39m|\u001b[39m \u001b[39mNone\u001b[39;00m \u001b[39m=\u001b[39m \u001b[39mNone\u001b[39;00m\n\u001b[0;32m-> 1407\u001b[0m \u001b[39mself\u001b[39m\u001b[39m.\u001b[39m_engine \u001b[39m=\u001b[39m \u001b[39mself\u001b[39;49m\u001b[39m.\u001b[39;49m_make_engine(f, \u001b[39mself\u001b[39;49m\u001b[39m.\u001b[39;49mengine)\n",
      "File \u001b[0;32m~/mambaforge/envs/decomnano/lib/python3.11/site-packages/pandas/io/parsers/readers.py:1661\u001b[0m, in \u001b[0;36mTextFileReader._make_engine\u001b[0;34m(self, f, engine)\u001b[0m\n\u001b[1;32m   1659\u001b[0m     \u001b[39mif\u001b[39;00m \u001b[39m\"\u001b[39m\u001b[39mb\u001b[39m\u001b[39m\"\u001b[39m \u001b[39mnot\u001b[39;00m \u001b[39min\u001b[39;00m mode:\n\u001b[1;32m   1660\u001b[0m         mode \u001b[39m+\u001b[39m\u001b[39m=\u001b[39m \u001b[39m\"\u001b[39m\u001b[39mb\u001b[39m\u001b[39m\"\u001b[39m\n\u001b[0;32m-> 1661\u001b[0m \u001b[39mself\u001b[39m\u001b[39m.\u001b[39mhandles \u001b[39m=\u001b[39m get_handle(\n\u001b[1;32m   1662\u001b[0m     f,\n\u001b[1;32m   1663\u001b[0m     mode,\n\u001b[1;32m   1664\u001b[0m     encoding\u001b[39m=\u001b[39;49m\u001b[39mself\u001b[39;49m\u001b[39m.\u001b[39;49moptions\u001b[39m.\u001b[39;49mget(\u001b[39m\"\u001b[39;49m\u001b[39mencoding\u001b[39;49m\u001b[39m\"\u001b[39;49m, \u001b[39mNone\u001b[39;49;00m),\n\u001b[1;32m   1665\u001b[0m     compression\u001b[39m=\u001b[39;49m\u001b[39mself\u001b[39;49m\u001b[39m.\u001b[39;49moptions\u001b[39m.\u001b[39;49mget(\u001b[39m\"\u001b[39;49m\u001b[39mcompression\u001b[39;49m\u001b[39m\"\u001b[39;49m, \u001b[39mNone\u001b[39;49;00m),\n\u001b[1;32m   1666\u001b[0m     memory_map\u001b[39m=\u001b[39;49m\u001b[39mself\u001b[39;49m\u001b[39m.\u001b[39;49moptions\u001b[39m.\u001b[39;49mget(\u001b[39m\"\u001b[39;49m\u001b[39mmemory_map\u001b[39;49m\u001b[39m\"\u001b[39;49m, \u001b[39mFalse\u001b[39;49;00m),\n\u001b[1;32m   1667\u001b[0m     is_text\u001b[39m=\u001b[39;49mis_text,\n\u001b[1;32m   1668\u001b[0m     errors\u001b[39m=\u001b[39;49m\u001b[39mself\u001b[39;49m\u001b[39m.\u001b[39;49moptions\u001b[39m.\u001b[39;49mget(\u001b[39m\"\u001b[39;49m\u001b[39mencoding_errors\u001b[39;49m\u001b[39m\"\u001b[39;49m, \u001b[39m\"\u001b[39;49m\u001b[39mstrict\u001b[39;49m\u001b[39m\"\u001b[39;49m),\n\u001b[1;32m   1669\u001b[0m     storage_options\u001b[39m=\u001b[39;49m\u001b[39mself\u001b[39;49m\u001b[39m.\u001b[39;49moptions\u001b[39m.\u001b[39;49mget(\u001b[39m\"\u001b[39;49m\u001b[39mstorage_options\u001b[39;49m\u001b[39m\"\u001b[39;49m, \u001b[39mNone\u001b[39;49;00m),\n\u001b[1;32m   1670\u001b[0m )\n\u001b[1;32m   1671\u001b[0m \u001b[39massert\u001b[39;00m \u001b[39mself\u001b[39m\u001b[39m.\u001b[39mhandles \u001b[39mis\u001b[39;00m \u001b[39mnot\u001b[39;00m \u001b[39mNone\u001b[39;00m\n\u001b[1;32m   1672\u001b[0m f \u001b[39m=\u001b[39m \u001b[39mself\u001b[39m\u001b[39m.\u001b[39mhandles\u001b[39m.\u001b[39mhandle\n",
      "File \u001b[0;32m~/mambaforge/envs/decomnano/lib/python3.11/site-packages/pandas/io/common.py:859\u001b[0m, in \u001b[0;36mget_handle\u001b[0;34m(path_or_buf, mode, encoding, compression, memory_map, is_text, errors, storage_options)\u001b[0m\n\u001b[1;32m    854\u001b[0m \u001b[39melif\u001b[39;00m \u001b[39misinstance\u001b[39m(handle, \u001b[39mstr\u001b[39m):\n\u001b[1;32m    855\u001b[0m     \u001b[39m# Check whether the filename is to be opened in binary mode.\u001b[39;00m\n\u001b[1;32m    856\u001b[0m     \u001b[39m# Binary mode does not support 'encoding' and 'newline'.\u001b[39;00m\n\u001b[1;32m    857\u001b[0m     \u001b[39mif\u001b[39;00m ioargs\u001b[39m.\u001b[39mencoding \u001b[39mand\u001b[39;00m \u001b[39m\"\u001b[39m\u001b[39mb\u001b[39m\u001b[39m\"\u001b[39m \u001b[39mnot\u001b[39;00m \u001b[39min\u001b[39;00m ioargs\u001b[39m.\u001b[39mmode:\n\u001b[1;32m    858\u001b[0m         \u001b[39m# Encoding\u001b[39;00m\n\u001b[0;32m--> 859\u001b[0m         handle \u001b[39m=\u001b[39m \u001b[39mopen\u001b[39;49m(\n\u001b[1;32m    860\u001b[0m             handle,\n\u001b[1;32m    861\u001b[0m             ioargs\u001b[39m.\u001b[39;49mmode,\n\u001b[1;32m    862\u001b[0m             encoding\u001b[39m=\u001b[39;49mioargs\u001b[39m.\u001b[39;49mencoding,\n\u001b[1;32m    863\u001b[0m             errors\u001b[39m=\u001b[39;49merrors,\n\u001b[1;32m    864\u001b[0m             newline\u001b[39m=\u001b[39;49m\u001b[39m\"\u001b[39;49m\u001b[39m\"\u001b[39;49m,\n\u001b[1;32m    865\u001b[0m         )\n\u001b[1;32m    866\u001b[0m     \u001b[39melse\u001b[39;00m:\n\u001b[1;32m    867\u001b[0m         \u001b[39m# Binary mode\u001b[39;00m\n\u001b[1;32m    868\u001b[0m         handle \u001b[39m=\u001b[39m \u001b[39mopen\u001b[39m(handle, ioargs\u001b[39m.\u001b[39mmode)\n",
      "\u001b[0;31mFileNotFoundError\u001b[0m: [Errno 2] No such file or directory: '../sweep/Pt40Au60_AgBP1_fix_bulk_fraction_hollow_shell_results.csv'"
     ]
    }
   ],
   "source": [
    "# Still calculating\n",
    "\n",
    "adn = Analyze(\"../sweep/Pt40Au60_AgBP1_fix_bulk_fraction_hollow_shell_results.csv\")\n",
    "adn.analyze_all(\"Pt40Au60_AgBP1_fix_bulk_fraction_hollow_shell\")"
   ]
  },
  {
   "cell_type": "code",
   "execution_count": 11,
   "metadata": {},
   "outputs": [],
   "source": [
    "import pandas as pd"
   ]
  },
  {
   "cell_type": "code",
   "execution_count": 20,
   "metadata": {},
   "outputs": [],
   "source": [
    "df = pd.read_csv(\"../sweep/Pt40Au60_AgBP1_hollow_shell_results.csv\")"
   ]
  },
  {
   "cell_type": "code",
   "execution_count": 26,
   "metadata": {},
   "outputs": [],
   "source": [
    "df = df.dropna()\n",
    "df = df[df[\"y\"] > 0]"
   ]
  },
  {
   "cell_type": "code",
   "execution_count": 28,
   "metadata": {},
   "outputs": [
    {
     "data": {
      "text/plain": [
       "0.33962222534575726"
      ]
     },
     "execution_count": 28,
     "metadata": {},
     "output_type": "execute_result"
    }
   ],
   "source": [
    "df[\"y\"].mean()"
   ]
  },
  {
   "cell_type": "code",
   "execution_count": null,
   "metadata": {},
   "outputs": [],
   "source": []
  }
 ],
 "metadata": {
  "kernelspec": {
   "display_name": "decomnano",
   "language": "python",
   "name": "python3"
  },
  "language_info": {
   "codemirror_mode": {
    "name": "ipython",
    "version": 3
   },
   "file_extension": ".py",
   "mimetype": "text/x-python",
   "name": "python",
   "nbconvert_exporter": "python",
   "pygments_lexer": "ipython3",
   "version": "3.11.3"
  },
  "orig_nbformat": 4
 },
 "nbformat": 4,
 "nbformat_minor": 2
}
